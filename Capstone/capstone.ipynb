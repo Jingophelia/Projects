{
 "cells": [
  {
   "cell_type": "code",
   "execution_count": 186,
   "metadata": {
    "collapsed": true
   },
   "outputs": [],
   "source": [
    "import pandas as pd\n",
    "import matplotlib.pyplot as plt\n",
    "import seaborn as sns\n",
    "import numpy as np "
   ]
  },
  {
   "cell_type": "markdown",
   "metadata": {},
   "source": [
    "Import data"
   ]
  },
  {
   "cell_type": "code",
   "execution_count": 187,
   "metadata": {},
   "outputs": [],
   "source": [
    "df = pd.read_csv(\"default.csv\",header=1) "
   ]
  },
  {
   "cell_type": "code",
   "execution_count": 188,
   "metadata": {},
   "outputs": [
    {
     "name": "stdout",
     "output_type": "stream",
     "text": [
      "<class 'pandas.core.frame.DataFrame'>\n",
      "Int64Index: 29964 entries, 1 to 29999\n",
      "Data columns (total 24 columns):\n",
      "limit_bal                     29964 non-null int64\n",
      "sex                           29964 non-null int64\n",
      "education                     29964 non-null int64\n",
      "marriage                      29964 non-null int64\n",
      "age                           29964 non-null int64\n",
      "pay_1                         29964 non-null int64\n",
      "pay_2                         29964 non-null int64\n",
      "pay_3                         29964 non-null int64\n",
      "pay_4                         29964 non-null int64\n",
      "pay_5                         29964 non-null int64\n",
      "pay_6                         29964 non-null int64\n",
      "bill_amt1                     29964 non-null int64\n",
      "bill_amt2                     29964 non-null int64\n",
      "bill_amt3                     29964 non-null int64\n",
      "bill_amt4                     29964 non-null int64\n",
      "bill_amt5                     29964 non-null int64\n",
      "bill_amt6                     29964 non-null int64\n",
      "pay_amt1                      29964 non-null int64\n",
      "pay_amt2                      29964 non-null int64\n",
      "pay_amt3                      29964 non-null int64\n",
      "pay_amt4                      29964 non-null int64\n",
      "pay_amt5                      29964 non-null int64\n",
      "pay_amt6                      29964 non-null int64\n",
      "default payment next month    29964 non-null int64\n",
      "dtypes: int64(24)\n",
      "memory usage: 5.7 MB\n"
     ]
    }
   ],
   "source": [
    "df = df.iloc[1:,1:]\n",
    "df.columns = [x.lower() for x in df.columns]\n",
    "df.rename(columns={'pay_0':'pay_1'}, inplace=True)\n",
    "df=df.drop_duplicates(keep = 'first')\n",
    "df.info()"
   ]
  },
  {
   "cell_type": "markdown",
   "metadata": {},
   "source": [
    "Data Cleaning\n",
    "\n",
    "Here I deleted first row and coloum, and lowercased the name of coloum for convience.It seems there is no missing value but I still need to fo further check of the data."
   ]
  },
  {
   "cell_type": "code",
   "execution_count": 189,
   "metadata": {
    "scrolled": true
   },
   "outputs": [
    {
     "data": {
      "text/html": [
       "<div>\n",
       "<style>\n",
       "    .dataframe thead tr:only-child th {\n",
       "        text-align: right;\n",
       "    }\n",
       "\n",
       "    .dataframe thead th {\n",
       "        text-align: left;\n",
       "    }\n",
       "\n",
       "    .dataframe tbody tr th {\n",
       "        vertical-align: top;\n",
       "    }\n",
       "</style>\n",
       "<table border=\"1\" class=\"dataframe\">\n",
       "  <thead>\n",
       "    <tr style=\"text-align: right;\">\n",
       "      <th></th>\n",
       "      <th>limit_bal</th>\n",
       "      <th>sex</th>\n",
       "      <th>education</th>\n",
       "      <th>marriage</th>\n",
       "      <th>age</th>\n",
       "    </tr>\n",
       "  </thead>\n",
       "  <tbody>\n",
       "    <tr>\n",
       "      <th>count</th>\n",
       "      <td>29964.000000</td>\n",
       "      <td>29964.000000</td>\n",
       "      <td>29964.000000</td>\n",
       "      <td>29964.000000</td>\n",
       "      <td>29964.000000</td>\n",
       "    </tr>\n",
       "    <tr>\n",
       "      <th>mean</th>\n",
       "      <td>167446.925644</td>\n",
       "      <td>1.603724</td>\n",
       "      <td>1.853624</td>\n",
       "      <td>1.551896</td>\n",
       "      <td>35.488353</td>\n",
       "    </tr>\n",
       "    <tr>\n",
       "      <th>std</th>\n",
       "      <td>129759.504797</td>\n",
       "      <td>0.489131</td>\n",
       "      <td>0.790424</td>\n",
       "      <td>0.521996</td>\n",
       "      <td>9.219374</td>\n",
       "    </tr>\n",
       "    <tr>\n",
       "      <th>min</th>\n",
       "      <td>10000.000000</td>\n",
       "      <td>1.000000</td>\n",
       "      <td>0.000000</td>\n",
       "      <td>0.000000</td>\n",
       "      <td>21.000000</td>\n",
       "    </tr>\n",
       "    <tr>\n",
       "      <th>25%</th>\n",
       "      <td>50000.000000</td>\n",
       "      <td>1.000000</td>\n",
       "      <td>1.000000</td>\n",
       "      <td>1.000000</td>\n",
       "      <td>28.000000</td>\n",
       "    </tr>\n",
       "    <tr>\n",
       "      <th>50%</th>\n",
       "      <td>140000.000000</td>\n",
       "      <td>2.000000</td>\n",
       "      <td>2.000000</td>\n",
       "      <td>2.000000</td>\n",
       "      <td>34.000000</td>\n",
       "    </tr>\n",
       "    <tr>\n",
       "      <th>75%</th>\n",
       "      <td>240000.000000</td>\n",
       "      <td>2.000000</td>\n",
       "      <td>2.000000</td>\n",
       "      <td>2.000000</td>\n",
       "      <td>41.000000</td>\n",
       "    </tr>\n",
       "    <tr>\n",
       "      <th>max</th>\n",
       "      <td>1000000.000000</td>\n",
       "      <td>2.000000</td>\n",
       "      <td>6.000000</td>\n",
       "      <td>3.000000</td>\n",
       "      <td>79.000000</td>\n",
       "    </tr>\n",
       "  </tbody>\n",
       "</table>\n",
       "</div>"
      ],
      "text/plain": [
       "            limit_bal           sex     education      marriage           age\n",
       "count    29964.000000  29964.000000  29964.000000  29964.000000  29964.000000\n",
       "mean    167446.925644      1.603724      1.853624      1.551896     35.488353\n",
       "std     129759.504797      0.489131      0.790424      0.521996      9.219374\n",
       "min      10000.000000      1.000000      0.000000      0.000000     21.000000\n",
       "25%      50000.000000      1.000000      1.000000      1.000000     28.000000\n",
       "50%     140000.000000      2.000000      2.000000      2.000000     34.000000\n",
       "75%     240000.000000      2.000000      2.000000      2.000000     41.000000\n",
       "max    1000000.000000      2.000000      6.000000      3.000000     79.000000"
      ]
     },
     "execution_count": 189,
     "metadata": {},
     "output_type": "execute_result"
    }
   ],
   "source": [
    "df[['limit_bal','sex', 'education', 'marriage','age']].describe()"
   ]
  },
  {
   "cell_type": "markdown",
   "metadata": {},
   "source": [
    "I don't undersatnd the limit_bal coloum.\n",
    "\n",
    "According to the observation, the geneder colunm looks good, but education has values equal to 0,5 and 6, and marriage has values equal to 0, which are not listed in the data description.I classified them as missing data and labeled them equal to others."
   ]
  },
  {
   "cell_type": "code",
   "execution_count": 190,
   "metadata": {},
   "outputs": [],
   "source": [
    "#df['education'] = df['education'].replace('0','4')\n",
    "#df['marriage'] = df['marriage'].replace('0','3')\n",
    "#df[['marriage']].describe()\n",
    "#df.loc[df.marriage ==0, 'marriage'] = 3\n",
    "#df.loc[(df['education'] ==0) | (df['education']==5)|(df['education']==6)]=4\n",
    "#df.describe()"
   ]
  },
  {
   "cell_type": "code",
   "execution_count": 191,
   "metadata": {},
   "outputs": [
    {
     "data": {
      "text/html": [
       "<div>\n",
       "<style>\n",
       "    .dataframe thead tr:only-child th {\n",
       "        text-align: right;\n",
       "    }\n",
       "\n",
       "    .dataframe thead th {\n",
       "        text-align: left;\n",
       "    }\n",
       "\n",
       "    .dataframe tbody tr th {\n",
       "        vertical-align: top;\n",
       "    }\n",
       "</style>\n",
       "<table border=\"1\" class=\"dataframe\">\n",
       "  <thead>\n",
       "    <tr style=\"text-align: right;\">\n",
       "      <th>default payment next month</th>\n",
       "      <th>0</th>\n",
       "      <th>1</th>\n",
       "      <th>default_percentage</th>\n",
       "    </tr>\n",
       "    <tr>\n",
       "      <th>marriage</th>\n",
       "      <th></th>\n",
       "      <th></th>\n",
       "      <th></th>\n",
       "    </tr>\n",
       "  </thead>\n",
       "  <tbody>\n",
       "    <tr>\n",
       "      <th>0</th>\n",
       "      <td>49</td>\n",
       "      <td>5</td>\n",
       "      <td>0.357143</td>\n",
       "    </tr>\n",
       "    <tr>\n",
       "      <th>1</th>\n",
       "      <td>10442</td>\n",
       "      <td>3200</td>\n",
       "      <td>0.302309</td>\n",
       "    </tr>\n",
       "    <tr>\n",
       "      <th>2</th>\n",
       "      <td>12605</td>\n",
       "      <td>3340</td>\n",
       "      <td>0.238074</td>\n",
       "    </tr>\n",
       "    <tr>\n",
       "      <th>3</th>\n",
       "      <td>239</td>\n",
       "      <td>84</td>\n",
       "      <td>0.017083</td>\n",
       "    </tr>\n",
       "  </tbody>\n",
       "</table>\n",
       "</div>"
      ],
      "text/plain": [
       "default payment next month      0     1  default_percentage\n",
       "marriage                                                   \n",
       "0                              49     5            0.357143\n",
       "1                           10442  3200            0.302309\n",
       "2                           12605  3340            0.238074\n",
       "3                             239    84            0.017083"
      ]
     },
     "execution_count": 191,
     "metadata": {},
     "output_type": "execute_result"
    }
   ],
   "source": [
    "marriage=df[['marriage','default payment next month']]\n",
    "ma_default=marriage.groupby(['marriage','default payment next month']).size().unstack()\n",
    "ma_default['default_percentage']=ma_default[1]/np.sum(edu_default, axis=1)\n",
    "ma_default"
   ]
  },
  {
   "cell_type": "code",
   "execution_count": 192,
   "metadata": {},
   "outputs": [
    {
     "data": {
      "text/html": [
       "<div>\n",
       "<style>\n",
       "    .dataframe thead tr:only-child th {\n",
       "        text-align: right;\n",
       "    }\n",
       "\n",
       "    .dataframe thead th {\n",
       "        text-align: left;\n",
       "    }\n",
       "\n",
       "    .dataframe tbody tr th {\n",
       "        vertical-align: top;\n",
       "    }\n",
       "</style>\n",
       "<table border=\"1\" class=\"dataframe\">\n",
       "  <thead>\n",
       "    <tr style=\"text-align: right;\">\n",
       "      <th>default payment next month</th>\n",
       "      <th>0</th>\n",
       "      <th>1</th>\n",
       "      <th>default_percentage</th>\n",
       "    </tr>\n",
       "    <tr>\n",
       "      <th>education</th>\n",
       "      <th></th>\n",
       "      <th></th>\n",
       "      <th></th>\n",
       "    </tr>\n",
       "  </thead>\n",
       "  <tbody>\n",
       "    <tr>\n",
       "      <th>0</th>\n",
       "      <td>14.0</td>\n",
       "      <td>0.0</td>\n",
       "      <td>0.000000</td>\n",
       "    </tr>\n",
       "    <tr>\n",
       "      <th>1</th>\n",
       "      <td>8531.0</td>\n",
       "      <td>2032.0</td>\n",
       "      <td>0.192370</td>\n",
       "    </tr>\n",
       "    <tr>\n",
       "      <th>2</th>\n",
       "      <td>10691.0</td>\n",
       "      <td>3327.0</td>\n",
       "      <td>0.237338</td>\n",
       "    </tr>\n",
       "    <tr>\n",
       "      <th>3</th>\n",
       "      <td>3678.0</td>\n",
       "      <td>1237.0</td>\n",
       "      <td>0.251679</td>\n",
       "    </tr>\n",
       "    <tr>\n",
       "      <th>4</th>\n",
       "      <td>116.0</td>\n",
       "      <td>7.0</td>\n",
       "      <td>0.056911</td>\n",
       "    </tr>\n",
       "    <tr>\n",
       "      <th>5</th>\n",
       "      <td>262.0</td>\n",
       "      <td>18.0</td>\n",
       "      <td>0.064286</td>\n",
       "    </tr>\n",
       "    <tr>\n",
       "      <th>6</th>\n",
       "      <td>43.0</td>\n",
       "      <td>8.0</td>\n",
       "      <td>0.156863</td>\n",
       "    </tr>\n",
       "  </tbody>\n",
       "</table>\n",
       "</div>"
      ],
      "text/plain": [
       "default payment next month        0       1  default_percentage\n",
       "education                                                      \n",
       "0                              14.0     0.0            0.000000\n",
       "1                            8531.0  2032.0            0.192370\n",
       "2                           10691.0  3327.0            0.237338\n",
       "3                            3678.0  1237.0            0.251679\n",
       "4                             116.0     7.0            0.056911\n",
       "5                             262.0    18.0            0.064286\n",
       "6                              43.0     8.0            0.156863"
      ]
     },
     "execution_count": 192,
     "metadata": {},
     "output_type": "execute_result"
    }
   ],
   "source": [
    "edu=df[['education','default payment next month']]\n",
    "edu_default=edu.groupby(['education','default payment next month']).size().unstack()\n",
    "edu_default.fillna(0,inplace=True)\n",
    "edu_default['default_percentage']=edu_default[1]/np.sum(edu_default, axis=1)\n",
    "edu_default"
   ]
  },
  {
   "cell_type": "markdown",
   "metadata": {},
   "source": [
    "The higher the education, the lower the default rate, which makes sense.\n",
    "But here I need to classify labels which are not listed in the description.It's hard to decide how to deal with it"
   ]
  },
  {
   "cell_type": "markdown",
   "metadata": {},
   "source": [
    "This research employed a binary variable, default payment (Yes = 1, No = 0), as the response variable. This study reviewed the literature and used the following 23 variables as explanatory variables: \n",
    "\n",
    "X1: Amount of the given credit (NT dollar): it includes both the individual consumer credit and his/her family (supplementary) credit.\n",
    "\n",
    "X2: Gender (1 = male; 2 = female). \n",
    "\n",
    "X3: Education (1 = graduate school; 2 = university; 3 = high school; 4 = others). \n",
    "\n",
    "X4: Marital status (1 = married; 2 = single; 3 = others). \n",
    "\n",
    "X5: Age (year). \n",
    "_____________________________________________________________________________________________\n",
    "X6 - X11: \n",
    "History of past payment. We tracked the past monthly payment records (from April to September, 2005) as follows:\n",
    "X6 = the repayment status in September, 2005; \n",
    "X7 = the repayment status in August, 2005;\n",
    ". . .;\n",
    "X11 = the repayment status in April, 2005. \n",
    "The measurement scale for the repayment status is: -1 = pay duly; 1 = payment delay for one month; 2 = payment delay for two months; . . .; 8 = payment delay for eight months; 9 = payment delay for nine months and above. \n",
    "______________________________________________________________________________________________\n",
    "X12-X17:\n",
    "Amount of bill statement (NT dollar).\n",
    "X12 = amount of bill statement in September, 2005; \n",
    "X13 = amount of bill statement in August, 2005;\n",
    ". . .; \n",
    "X17 = amount of bill statement in April, 2005. \n",
    "______________________________________________________________________________________________\n",
    "X18-X23: \n",
    "Amount of previous payment (NT dollar).\n",
    "X18 = amount paid in September, 2005; \n",
    "X19 = amount paid in August, 2005; \n",
    ". . .;\n",
    "X23 = amount paid in April, 2005. "
   ]
  },
  {
   "cell_type": "code",
   "execution_count": 198,
   "metadata": {},
   "outputs": [
    {
     "data": {
      "image/png": "[encoded data removed]",
      "text/plain": [
       "<matplotlib.figure.Figure at 0x1a16e6a358>"
      ]
     },
     "metadata": {},
     "output_type": "display_data"
    }
   ],
   "source": [
    "plt.hist('age', data=df,bins=20)\n",
    "plt.show()"
   ]
  },
  {
   "cell_type": "code",
   "execution_count": 202,
   "metadata": {},
   "outputs": [
    {
     "data": {
      "image/png": "[encoded data removed]",
      "text/plain": [
       "<matplotlib.figure.Figure at 0x1a15cce198>"
      ]
     },
     "metadata": {},
     "output_type": "display_data"
    },
    {
     "data": {
      "image/png": "[encoded data removed]",
      "text/plain": [
       "<matplotlib.figure.Figure at 0x1a166606a0>"
      ]
     },
     "metadata": {},
     "output_type": "display_data"
    }
   ],
   "source": [
    "corr = df.corr()\n",
    "\n",
    "mask = np.zeros_like(corr, dtype=np.bool)\n",
    "mask[np.triu_indices_from(mask)] = True\n",
    "\n",
    "f, ax = plt.subplots(figsize=(11, 9))\n",
    "\n",
    "cmap = sns.diverging_palette(220, 10, as_cmap=True)\n",
    "\n",
    "\n",
    "sns.heatmap(corr, mask=mask, cmap=cmap, vmax=.3, center=0,\n",
    "            square=True, linewidths=.5, cbar_kws={\"shrink\": .5})\n",
    "plt.show()"
   ]
  },
  {
   "cell_type": "markdown",
   "metadata": {},
   "source": [
    "The correlation method here is questionable "
   ]
  },
  {
   "cell_type": "code",
   "execution_count": null,
   "metadata": {
    "collapsed": true
   },
   "outputs": [],
   "source": []
  }
 ],
 "metadata": {
  "kernelspec": {
   "display_name": "Python 3",
   "language": "python",
   "name": "python3"
  },
  "language_info": {
   "codemirror_mode": {
    "name": "ipython",
    "version": 3
   },
   "file_extension": ".py",
   "mimetype": "text/x-python",
   "name": "python",
   "nbconvert_exporter": "python",
   "pygments_lexer": "ipython3",
   "version": "3.6.3"
  }
 },
 "nbformat": 4,
 "nbformat_minor": 2
}
