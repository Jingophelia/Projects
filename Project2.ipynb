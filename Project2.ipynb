{
 "cells": [
  {
   "cell_type": "code",
   "execution_count": 1,
   "metadata": {
    "collapsed": true
   },
   "outputs": [],
   "source": [
    "import pandas as pd\n",
    "import numpy as np\n",
    "import matplotlib\n",
    "import matplotlib.pyplot as plt\n",
    "import copy as cp"
   ]
  },
  {
   "cell_type": "code",
   "execution_count": 22,
   "metadata": {
    "scrolled": true
   },
   "outputs": [
    {
     "name": "stderr",
     "output_type": "stream",
     "text": [
      "/Users/jane/anaconda3/lib/python3.6/site-packages/IPython/core/interactiveshell.py:2698: DtypeWarning: Columns (7,8,9,10,11,18,27,28,29,30,31,32,33,34,35,36,37,39) have mixed types. Specify dtype option on import or set low_memory=False.\n",
      "  interactivity=interactivity, compiler=compiler, result=result)\n"
     ]
    }
   ],
   "source": [
    "df = pd.read_csv(\"/Users/jane/Desktop/MetObjects.csv\") "
   ]
  },
  {
   "cell_type": "code",
   "execution_count": 3,
   "metadata": {},
   "outputs": [
    {
     "name": "stdout",
     "output_type": "stream",
     "text": [
      "  Object Number  Is Highlight  Is Public Domain  Object ID  \\\n",
      "0    1979.486.1         False             False          1   \n",
      "1    1980.264.5         False             False          2   \n",
      "2      67.265.9         False             False          3   \n",
      "3     67.265.10         False             False          4   \n",
      "4     67.265.11         False             False          5   \n",
      "\n",
      "                 Department Object Name                         Title Culture  \\\n",
      "0  American Decorative Arts        Coin  One-dollar Liberty Head Coin     NaN   \n",
      "1  American Decorative Arts        Coin  Ten-dollar Liberty Head Coin     NaN   \n",
      "2  American Decorative Arts        Coin    Two-and-a-Half Dollar Coin     NaN   \n",
      "3  American Decorative Arts        Coin    Two-and-a-Half Dollar Coin     NaN   \n",
      "4  American Decorative Arts        Coin    Two-and-a-Half Dollar Coin     NaN   \n",
      "\n",
      "  Period Dynasty                    ...                    Subregion Locale  \\\n",
      "0    NaN     NaN                    ...                          NaN    NaN   \n",
      "1    NaN     NaN                    ...                          NaN    NaN   \n",
      "2    NaN     NaN                    ...                          NaN    NaN   \n",
      "3    NaN     NaN                    ...                          NaN    NaN   \n",
      "4    NaN     NaN                    ...                          NaN    NaN   \n",
      "\n",
      "  Locus Excavation River Classification Rights and Reproduction  \\\n",
      "0   NaN        NaN   NaN          Metal                     NaN   \n",
      "1   NaN        NaN   NaN          Metal                     NaN   \n",
      "2   NaN        NaN   NaN          Metal                     NaN   \n",
      "3   NaN        NaN   NaN          Metal                     NaN   \n",
      "4   NaN        NaN   NaN          Metal                     NaN   \n",
      "\n",
      "                                      Link Resource         Metadata Date  \\\n",
      "0  http://www.metmuseum.org/art/collection/search/1  9/10/2018 8:00:01 AM   \n",
      "1  http://www.metmuseum.org/art/collection/search/2  9/10/2018 8:00:01 AM   \n",
      "2  http://www.metmuseum.org/art/collection/search/3  9/10/2018 8:00:01 AM   \n",
      "3  http://www.metmuseum.org/art/collection/search/4  9/10/2018 8:00:01 AM   \n",
      "4  http://www.metmuseum.org/art/collection/search/5  9/10/2018 8:00:01 AM   \n",
      "\n",
      "                                 Repository  \n",
      "0  Metropolitan Museum of Art, New York, NY  \n",
      "1  Metropolitan Museum of Art, New York, NY  \n",
      "2  Metropolitan Museum of Art, New York, NY  \n",
      "3  Metropolitan Museum of Art, New York, NY  \n",
      "4  Metropolitan Museum of Art, New York, NY  \n",
      "\n",
      "[5 rows x 43 columns]\n"
     ]
    }
   ],
   "source": [
    "print(df.head())"
   ]
  },
  {
   "cell_type": "markdown",
   "metadata": {},
   "source": [
    "file_path=\"/Users/jane/Desktop/MetObjects.csv\"\n",
    "with open(file_path) as file_object:\n",
    "    contents = file_object.read() \n",
    "    print(contents)"
   ]
  },
  {
   "cell_type": "markdown",
   "metadata": {},
   "source": [
    "a=df."
   ]
  },
  {
   "cell_type": "code",
   "execution_count": 4,
   "metadata": {},
   "outputs": [
    {
     "data": {
      "text/plain": [
       "(468947, 43)"
      ]
     },
     "execution_count": 4,
     "metadata": {},
     "output_type": "execute_result"
    }
   ],
   "source": [
    "df.shape"
   ]
  },
  {
   "cell_type": "code",
   "execution_count": 5,
   "metadata": {
    "collapsed": true
   },
   "outputs": [],
   "source": [
    "df_copy=cp.copy(df)"
   ]
  },
  {
   "cell_type": "code",
   "execution_count": 6,
   "metadata": {
    "collapsed": true
   },
   "outputs": [],
   "source": [
    "time=np.unique(df['Object End Date'])"
   ]
  },
  {
   "cell_type": "code",
   "execution_count": 7,
   "metadata": {},
   "outputs": [
    {
     "data": {
      "text/plain": [
       "2074"
      ]
     },
     "execution_count": 7,
     "metadata": {},
     "output_type": "execute_result"
    }
   ],
   "source": [
    "len(time)"
   ]
  },
  {
   "cell_type": "code",
   "execution_count": 8,
   "metadata": {},
   "outputs": [
    {
     "data": {
      "text/plain": [
       "18591861"
      ]
     },
     "execution_count": 8,
     "metadata": {},
     "output_type": "execute_result"
    }
   ],
   "source": [
    "max(time)"
   ]
  },
  {
   "cell_type": "code",
   "execution_count": 9,
   "metadata": {},
   "outputs": [
    {
     "data": {
      "text/plain": [
       "-35000"
      ]
     },
     "execution_count": 9,
     "metadata": {},
     "output_type": "execute_result"
    }
   ],
   "source": [
    "min(time)"
   ]
  },
  {
   "cell_type": "code",
   "execution_count": 10,
   "metadata": {},
   "outputs": [
    {
     "data": {
      "text/plain": [
       "242"
      ]
     },
     "execution_count": 10,
     "metadata": {},
     "output_type": "execute_result"
    }
   ],
   "source": [
    "problem=df[df['Object End Date']>2018]\n",
    "len(problem)"
   ]
  },
  {
   "cell_type": "code",
   "execution_count": 11,
   "metadata": {},
   "outputs": [
    {
     "data": {
      "text/plain": [
       "468947"
      ]
     },
     "execution_count": 11,
     "metadata": {},
     "output_type": "execute_result"
    }
   ],
   "source": [
    "len(df)"
   ]
  },
  {
   "cell_type": "code",
   "execution_count": 12,
   "metadata": {
    "collapsed": true
   },
   "outputs": [],
   "source": [
    "problem_plt=problem.iloc[:,22:24]"
   ]
  },
  {
   "cell_type": "code",
   "execution_count": 13,
   "metadata": {},
   "outputs": [
    {
     "data": {
      "text/plain": [
       "<matplotlib.axes._subplots.AxesSubplot at 0x118f24cc0>"
      ]
     },
     "execution_count": 13,
     "metadata": {},
     "output_type": "execute_result"
    }
   ],
   "source": [
    "problem_plt.plot.scatter(x='Object End Date',y='Object Begin Date')"
   ]
  },
  {
   "cell_type": "code",
   "execution_count": 14,
   "metadata": {},
   "outputs": [
    {
     "data": {
      "image/png": "[encoded data removed]",
      "text/plain": [
       "<matplotlib.figure.Figure at 0x118f24630>"
      ]
     },
     "metadata": {},
     "output_type": "display_data"
    }
   ],
   "source": [
    "plt.show()"
   ]
  },
  {
   "cell_type": "code",
   "execution_count": 15,
   "metadata": {
    "collapsed": true
   },
   "outputs": [],
   "source": [
    "time2=np.unique(df['Object Begin Date'])"
   ]
  },
  {
   "cell_type": "code",
   "execution_count": 16,
   "metadata": {},
   "outputs": [
    {
     "data": {
      "text/plain": [
       "2102"
      ]
     },
     "execution_count": 16,
     "metadata": {},
     "output_type": "execute_result"
    }
   ],
   "source": [
    "len(time2)"
   ]
  },
  {
   "cell_type": "code",
   "execution_count": 17,
   "metadata": {},
   "outputs": [
    {
     "data": {
      "text/plain": [
       "18591861"
      ]
     },
     "execution_count": 17,
     "metadata": {},
     "output_type": "execute_result"
    }
   ],
   "source": [
    "max(time2)"
   ]
  },
  {
   "cell_type": "code",
   "execution_count": 18,
   "metadata": {},
   "outputs": [
    {
     "data": {
      "text/plain": [
       "-95000"
      ]
     },
     "execution_count": 18,
     "metadata": {},
     "output_type": "execute_result"
    }
   ],
   "source": [
    "min(time2)"
   ]
  },
  {
   "cell_type": "code",
   "execution_count": 19,
   "metadata": {},
   "outputs": [
    {
     "data": {
      "text/html": [
       "<div>\n",
       "<style>\n",
       "    .dataframe thead tr:only-child th {\n",
       "        text-align: right;\n",
       "    }\n",
       "\n",
       "    .dataframe thead th {\n",
       "        text-align: left;\n",
       "    }\n",
       "\n",
       "    .dataframe tbody tr th {\n",
       "        vertical-align: top;\n",
       "    }\n",
       "</style>\n",
       "<table border=\"1\" class=\"dataframe\">\n",
       "  <thead>\n",
       "    <tr style=\"text-align: right;\">\n",
       "      <th></th>\n",
       "      <th>Object Begin Date</th>\n",
       "      <th>Object End Date</th>\n",
       "    </tr>\n",
       "  </thead>\n",
       "  <tbody>\n",
       "    <tr>\n",
       "      <th>377063</th>\n",
       "      <td>-95000</td>\n",
       "      <td>-35000</td>\n",
       "    </tr>\n",
       "  </tbody>\n",
       "</table>\n",
       "</div>"
      ],
      "text/plain": [
       "        Object Begin Date  Object End Date\n",
       "377063             -95000           -35000"
      ]
     },
     "execution_count": 19,
     "metadata": {},
     "output_type": "execute_result"
    }
   ],
   "source": [
    "b=df[df['Object Begin Date']==-95000]\n",
    "b.iloc[:,22:24]"
   ]
  },
  {
   "cell_type": "markdown",
   "metadata": {},
   "source": [
    "# Department Mapping"
   ]
  },
  {
   "cell_type": "code",
   "execution_count": 20,
   "metadata": {
    "collapsed": true
   },
   "outputs": [],
   "source": [
    "Departments=df.iloc[:,4].value_counts()"
   ]
  },
  {
   "cell_type": "code",
   "execution_count": 21,
   "metadata": {},
   "outputs": [
    {
     "data": {
      "text/html": [
       "<div>\n",
       "<style>\n",
       "    .dataframe thead tr:only-child th {\n",
       "        text-align: right;\n",
       "    }\n",
       "\n",
       "    .dataframe thead th {\n",
       "        text-align: left;\n",
       "    }\n",
       "\n",
       "    .dataframe tbody tr th {\n",
       "        vertical-align: top;\n",
       "    }\n",
       "</style>\n",
       "<table border=\"1\" class=\"dataframe\">\n",
       "  <thead>\n",
       "    <tr style=\"text-align: right;\">\n",
       "      <th></th>\n",
       "      <th>Department</th>\n",
       "    </tr>\n",
       "  </thead>\n",
       "  <tbody>\n",
       "    <tr>\n",
       "      <th>Drawings and Prints</th>\n",
       "      <td>171026</td>\n",
       "    </tr>\n",
       "    <tr>\n",
       "      <th>European Sculpture and Decorative Arts</th>\n",
       "      <td>42954</td>\n",
       "    </tr>\n",
       "    <tr>\n",
       "      <th>Photographs</th>\n",
       "      <td>38796</td>\n",
       "    </tr>\n",
       "    <tr>\n",
       "      <th>Asian Art</th>\n",
       "      <td>37302</td>\n",
       "    </tr>\n",
       "    <tr>\n",
       "      <th>Costume Institute</th>\n",
       "      <td>31368</td>\n",
       "    </tr>\n",
       "    <tr>\n",
       "      <th>Egyptian Art</th>\n",
       "      <td>27560</td>\n",
       "    </tr>\n",
       "    <tr>\n",
       "      <th>American Decorative Arts</th>\n",
       "      <td>18372</td>\n",
       "    </tr>\n",
       "    <tr>\n",
       "      <th>Greek and Roman Art</th>\n",
       "      <td>17431</td>\n",
       "    </tr>\n",
       "    <tr>\n",
       "      <th>Islamic Art</th>\n",
       "      <td>15770</td>\n",
       "    </tr>\n",
       "    <tr>\n",
       "      <th>Modern and Contemporary Art</th>\n",
       "      <td>14519</td>\n",
       "    </tr>\n",
       "    <tr>\n",
       "      <th>Arms and Armor</th>\n",
       "      <td>13562</td>\n",
       "    </tr>\n",
       "    <tr>\n",
       "      <th>Arts of Africa, Oceania, and the Americas</th>\n",
       "      <td>12938</td>\n",
       "    </tr>\n",
       "    <tr>\n",
       "      <th>Medieval Art</th>\n",
       "      <td>7487</td>\n",
       "    </tr>\n",
       "    <tr>\n",
       "      <th>Ancient Near Eastern Art</th>\n",
       "      <td>6186</td>\n",
       "    </tr>\n",
       "    <tr>\n",
       "      <th>Musical Instruments</th>\n",
       "      <td>5316</td>\n",
       "    </tr>\n",
       "    <tr>\n",
       "      <th>European Paintings</th>\n",
       "      <td>2933</td>\n",
       "    </tr>\n",
       "    <tr>\n",
       "      <th>The Cloisters</th>\n",
       "      <td>2628</td>\n",
       "    </tr>\n",
       "    <tr>\n",
       "      <th>Robert Lehman Collection</th>\n",
       "      <td>2586</td>\n",
       "    </tr>\n",
       "    <tr>\n",
       "      <th>The Libraries</th>\n",
       "      <td>213</td>\n",
       "    </tr>\n",
       "  </tbody>\n",
       "</table>\n",
       "</div>"
      ],
      "text/plain": [
       "                                           Department\n",
       "Drawings and Prints                            171026\n",
       "European Sculpture and Decorative Arts          42954\n",
       "Photographs                                     38796\n",
       "Asian Art                                       37302\n",
       "Costume Institute                               31368\n",
       "Egyptian Art                                    27560\n",
       "American Decorative Arts                        18372\n",
       "Greek and Roman Art                             17431\n",
       "Islamic Art                                     15770\n",
       "Modern and Contemporary Art                     14519\n",
       "Arms and Armor                                  13562\n",
       "Arts of Africa, Oceania, and the Americas       12938\n",
       "Medieval Art                                     7487\n",
       "Ancient Near Eastern Art                         6186\n",
       "Musical Instruments                              5316\n",
       "European Paintings                               2933\n",
       "The Cloisters                                    2628\n",
       "Robert Lehman Collection                         2586\n",
       "The Libraries                                     213"
      ]
     },
     "execution_count": 21,
     "metadata": {},
     "output_type": "execute_result"
    }
   ],
   "source": [
    "Departments=pd.DataFrame(Departments)\n",
    "Departments"
   ]
  },
  {
   "cell_type": "code",
   "execution_count": 22,
   "metadata": {
    "collapsed": true
   },
   "outputs": [],
   "source": [
    "import squarify"
   ]
  },
  {
   "cell_type": "code",
   "execution_count": 23,
   "metadata": {
    "collapsed": true
   },
   "outputs": [],
   "source": [
    "#Adjust size\n",
    "SMALL_SIZE = 15\n",
    "MEDIUM_SIZE = 18\n",
    "BIGGER_SIZE = 53\n",
    "\n",
    "plt.rc('font', size=SMALL_SIZE)          # controls default text sizes\n",
    "plt.rc('axes', titlesize=BIGGER_SIZE)     # fontsize of the axes title\n",
    "plt.rc('axes', labelsize=BIGGER_SIZE)     # fontsize of the x and y labels\n",
    "plt.rc('xtick', labelsize=MEDIUM_SIZE)    # fontsize of the tick labels 此处无用\n",
    "plt.rc('ytick', labelsize=MEDIUM_SIZE)    # fontsize of the tick labels\n",
    "plt.rc('legend', fontsize=SMALL_SIZE)    # legend fontsize\n",
    "plt.rc('figure', titlesize=BIGGER_SIZE)   # fontsize of the figure title"
   ]
  },
  {
   "cell_type": "raw",
   "metadata": {},
   "source": [
    "# Larger Plot\n",
    "fig = plt.gcf()\n",
    "ax = fig.add_subplot()\n",
    "fig.set_size_inches(16, 4.5)"
   ]
  },
  {
   "cell_type": "code",
   "execution_count": 24,
   "metadata": {
    "collapsed": true
   },
   "outputs": [],
   "source": [
    "# Another way of Large Plot\n",
    "plt.rcParams['figure.figsize'] = (40.0, 25.0)"
   ]
  },
  {
   "cell_type": "code",
   "execution_count": 25,
   "metadata": {
    "collapsed": true
   },
   "outputs": [],
   "source": [
    "#Utilise matplotlib to scale our goal numbers between the min and max, then assign this scale to our values.\n",
    "matplotlib.colors.Normalize(vmin=min(Departments), vmax=max(Departments))\n",
    "colors = [plt.cm.Blues(Departments) for value in Departments.index]"
   ]
  },
  {
   "cell_type": "code",
   "execution_count": 26,
   "metadata": {},
   "outputs": [
    {
     "data": {
      "image/png": "[encoded data removed]",
      "text/plain": [
       "<matplotlib.figure.Figure at 0x110c9b668>"
      ]
     },
     "metadata": {},
     "output_type": "display_data"
    }
   ],
   "source": [
    "#Treemap\n",
    "squarify.plot(sizes=Departments['Department'], label=Departments.index, alpha=.6)\n",
    "plt.title(\"Department Size\")\n",
    "plt.axis('off')\n",
    "plt.show()\n"
   ]
  },
  {
   "cell_type": "markdown",
   "metadata": {},
   "source": [
    "# Geographic Mapping"
   ]
  },
  {
   "cell_type": "markdown",
   "metadata": {},
   "source": [
    "I want to examine the distribution of objects by country. Based on the observation from column names, I can analyze Culture or Country column. Since there are too many missing values, I need to decide which one to pick. \n"
   ]
  },
  {
   "cell_type": "code",
   "execution_count": 27,
   "metadata": {},
   "outputs": [
    {
     "data": {
      "text/plain": [
       "(468947, 43)"
      ]
     },
     "execution_count": 27,
     "metadata": {},
     "output_type": "execute_result"
    }
   ],
   "source": [
    "df.shape"
   ]
  },
  {
   "cell_type": "code",
   "execution_count": 28,
   "metadata": {},
   "outputs": [
    {
     "data": {
      "text/plain": [
       "(192115,)"
      ]
     },
     "execution_count": 28,
     "metadata": {},
     "output_type": "execute_result"
    }
   ],
   "source": [
    "#np.count_nonzero(~np.isnan(df.Culture))\n",
    "culture=df.Culture.dropna()\n",
    "culture.shape"
   ]
  },
  {
   "cell_type": "code",
   "execution_count": 29,
   "metadata": {
    "scrolled": false
   },
   "outputs": [
    {
     "data": {
      "text/plain": [
       "(76108,)"
      ]
     },
     "execution_count": 29,
     "metadata": {},
     "output_type": "execute_result"
    }
   ],
   "source": [
    "country=df.Country.dropna()\n",
    "country.shape"
   ]
  },
  {
   "cell_type": "code",
   "execution_count": 30,
   "metadata": {},
   "outputs": [
    {
     "data": {
      "text/plain": [
       "American     30750\n",
       "French       18794\n",
       "Japan        16604\n",
       "China        14178\n",
       "Italian       7109\n",
       "British       6086\n",
       "Japanese      6011\n",
       "German        4972\n",
       "Roman         4918\n",
       "British,      4585\n",
       "French,       4219\n",
       "Italian,      3856\n",
       "Greek,        3514\n",
       "European      3390\n",
       "Cypriot       2923\n",
       "German,       2782\n",
       "probably      2357\n",
       "Spanish       1753\n",
       "Coptic        1671\n",
       "possibly      1615\n",
       "Greek         1549\n",
       "India         1433\n",
       "Indonesia     1276\n",
       "Chinese,      1205\n",
       "Chinese       1099\n",
       "Iran          1088\n",
       "Sasanian      1014\n",
       "Etruscan       984\n",
       "Dutch          982\n",
       "Mexican        887\n",
       "             ...  \n",
       "Fiji             1\n",
       "Slavic           1\n",
       "Kutep            1\n",
       "Anyi,            1\n",
       "Epi-Olmec        1\n",
       "Cuna             1\n",
       "Flores,          1\n",
       "Chincha          1\n",
       "Euboean          1\n",
       "Cauca            1\n",
       "Norman           1\n",
       "Island           1\n",
       "Wee              1\n",
       "Kayan            1\n",
       "Kodi             1\n",
       "Dogon?           1\n",
       "Imitation        1\n",
       "Tibet(?)         1\n",
       "Mali;            1\n",
       "Ngemba           1\n",
       "saddle           1\n",
       "Syrian-          1\n",
       "Ashiwi           1\n",
       "Chilean          1\n",
       "Kagani           1\n",
       "Itallic          1\n",
       "Aztec?           1\n",
       "Comala           1\n",
       "Papuan           1\n",
       "Songue           1\n",
       "Name: Culture, Length: 1670, dtype: int64"
      ]
     },
     "execution_count": 30,
     "metadata": {},
     "output_type": "execute_result"
    }
   ],
   "source": [
    "#Roughly checking the dataset, it seems that the culture name starts from the first word.\n",
    "#Extract first word in culture column.\n",
    "c_1=culture.str.split()\n",
    "c_1=c_1.str.get(0)\n",
    "c_1.value_counts()\n",
    "#There is no culture name probably or possibly. I need to check the characteristics of these columns further."
   ]
  },
  {
   "cell_type": "code",
   "execution_count": 31,
   "metadata": {},
   "outputs": [
    {
     "data": {
      "text/plain": [
       "399      Dutch, probably\n",
       "519    British, probably\n",
       "575    British, probably\n",
       "Name: Culture, dtype: object"
      ]
     },
     "execution_count": 31,
     "metadata": {},
     "output_type": "execute_result"
    }
   ],
   "source": [
    "# I only printed first 10 rows because space is limited, but the position of probably changes case by case. \n",
    "# For simplicity, I deleted the word probably&possibly\n",
    "culture[culture.str.contains('probably')].head(3)"
   ]
  },
  {
   "cell_type": "code",
   "execution_count": 32,
   "metadata": {},
   "outputs": [
    {
     "data": {
      "text/plain": [
       "666       British, possibly\n",
       "804        French, possibly\n",
       "1570    Bermudian, possibly\n",
       "1571    Bermudian, possibly\n",
       "1775      British, possibly\n",
       "Name: Culture, dtype: object"
      ]
     },
     "execution_count": 32,
     "metadata": {},
     "output_type": "execute_result"
    }
   ],
   "source": [
    "culture[culture.str.contains('possibly')].head(5)"
   ]
  },
  {
   "cell_type": "code",
   "execution_count": 33,
   "metadata": {
    "collapsed": true
   },
   "outputs": [],
   "source": [
    "culture=culture.str.replace('probably?', '')\n",
    "culture=culture.str.replace('possibly?', '')"
   ]
  },
  {
   "cell_type": "code",
   "execution_count": 34,
   "metadata": {
    "scrolled": true
   },
   "outputs": [
    {
     "data": {
      "text/plain": [
       "14                Mexican\n",
       "15                Mexican\n",
       "16                Mexican\n",
       "17                Mexican\n",
       "18                Mexican\n",
       "19                Mexican\n",
       "20                Mexican\n",
       "21             Guatemalan\n",
       "22             Guatemalan\n",
       "23                Mexican\n",
       "24                Mexican\n",
       "25                Mexican\n",
       "26                Mexican\n",
       "27                Mexican\n",
       "28                Mexican\n",
       "29                Mexican\n",
       "30                Mexican\n",
       "31                Mexican\n",
       "32               American\n",
       "33               American\n",
       "34               American\n",
       "35               American\n",
       "36                British\n",
       "37                British\n",
       "38               American\n",
       "39               American\n",
       "40               American\n",
       "41               American\n",
       "42               American\n",
       "59               American\n",
       "               ...       \n",
       "465710           American\n",
       "465792            Indian,\n",
       "465793            Indian,\n",
       "465794       Anglo-Indian\n",
       "466095    Greco-Egyptian,\n",
       "466121             French\n",
       "466122             French\n",
       "466336           American\n",
       "466460            British\n",
       "466500            Belgian\n",
       "466559           American\n",
       "466715             India,\n",
       "466716             India,\n",
       "466717             India,\n",
       "466777            Italian\n",
       "466811            Italian\n",
       "466814            Italian\n",
       "466903            Italian\n",
       "466984           British,\n",
       "466985           British,\n",
       "466986           British,\n",
       "466987           British,\n",
       "467097           British,\n",
       "467153           British,\n",
       "468456              Roman\n",
       "468495           British,\n",
       "468503            German,\n",
       "468783              Roman\n",
       "468909           British,\n",
       "468911           British,\n",
       "Name: Culture, Length: 192115, dtype: object"
      ]
     },
     "execution_count": 34,
     "metadata": {},
     "output_type": "execute_result"
    }
   ],
   "source": [
    "#Extract first word in culture column\n",
    "c_1=culture.str.split()\n",
    "c_1=c_1.str.get(0)\n",
    "c_1"
   ]
  },
  {
   "cell_type": "code",
   "execution_count": 35,
   "metadata": {
    "scrolled": true
   },
   "outputs": [
    {
     "data": {
      "text/plain": [
       "American       31519\n",
       "French         24109\n",
       "Japan          16606\n",
       "Chinese        16527\n",
       "Italian        11325\n",
       "British        11065\n",
       "German          8131\n",
       "Japanese        6117\n",
       "Roman           5498\n",
       "Greek           5076\n",
       "European        3715\n",
       "Cypriot         2923\n",
       "Spanish         2248\n",
       "Coptic          1671\n",
       "India           1470\n",
       "Dutch           1439\n",
       "Indonesia       1283\n",
       "Indian          1154\n",
       "Iran            1090\n",
       "Russian         1090\n",
       "Etruscan        1039\n",
       "Sasanian        1014\n",
       "Austrian         965\n",
       "Flemish          950\n",
       "Mexican          898\n",
       "Frankish         798\n",
       "Minoan           776\n",
       "Moche            728\n",
       "Asmat            651\n",
       "Korea            649\n",
       "               ...  \n",
       "Algerian;          1\n",
       "Masango            1\n",
       "Tetum              1\n",
       "Tetela             1\n",
       "Prairie            1\n",
       "Yasyin-Mayo        1\n",
       "Mvuba              1\n",
       "Poto               1\n",
       "Gwich'in           1\n",
       "Wunambal           1\n",
       "Limba              1\n",
       "Jambi              1\n",
       "Brong              1\n",
       "Chupícuaro         1\n",
       "Nexpa              1\n",
       "Kickapoo           1\n",
       "Apsáalooke         1\n",
       "Modern?            1\n",
       "Blade              1\n",
       "spearhead          1\n",
       "Edo/Bini           1\n",
       "Ndengese           1\n",
       "Adena              1\n",
       "Eloyi              1\n",
       "Fulani?            1\n",
       "Bribri             1\n",
       "Turka              1\n",
       "Nyishi             1\n",
       "Macedonia          1\n",
       "Mensuat            1\n",
       "Name: Culture, Length: 1560, dtype: int64"
      ]
     },
     "execution_count": 35,
     "metadata": {},
     "output_type": "execute_result"
    }
   ],
   "source": [
    "# Count unique values in culture\n",
    "c_1=c_1.str.replace(',', '')\n",
    "c_1=c_1.str.replace('China', 'Chinese')\n",
    "c_1=c_1.value_counts()\n",
    "#c_1.replace('China','Chinese')\n",
    "c_1"
   ]
  },
  {
   "cell_type": "code",
   "execution_count": 36,
   "metadata": {},
   "outputs": [
    {
     "data": {
      "image/png": "[encoded data removed]",
      "text/plain": [
       "<matplotlib.figure.Figure at 0x128e5d668>"
      ]
     },
     "metadata": {},
     "output_type": "display_data"
    }
   ],
   "source": [
    "c_1.iloc[0:10].plot(kind='pie')\n",
    "plt.show()"
   ]
  },
  {
   "cell_type": "code",
   "execution_count": 45,
   "metadata": {
    "scrolled": true
   },
   "outputs": [
    {
     "data": {
      "text/html": [
       "<div>\n",
       "<style>\n",
       "    .dataframe thead tr:only-child th {\n",
       "        text-align: right;\n",
       "    }\n",
       "\n",
       "    .dataframe thead th {\n",
       "        text-align: left;\n",
       "    }\n",
       "\n",
       "    .dataframe tbody tr th {\n",
       "        vertical-align: top;\n",
       "    }\n",
       "</style>\n",
       "<table border=\"1\" class=\"dataframe\">\n",
       "  <thead>\n",
       "    <tr style=\"text-align: right;\">\n",
       "      <th></th>\n",
       "      <th>Object Number</th>\n",
       "      <th>Is Highlight</th>\n",
       "      <th>Is Public Domain</th>\n",
       "      <th>Object ID</th>\n",
       "      <th>Department</th>\n",
       "      <th>Object Name</th>\n",
       "      <th>Title</th>\n",
       "      <th>Culture</th>\n",
       "      <th>Period</th>\n",
       "      <th>Dynasty</th>\n",
       "      <th>...</th>\n",
       "      <th>Subregion</th>\n",
       "      <th>Locale</th>\n",
       "      <th>Locus</th>\n",
       "      <th>Excavation</th>\n",
       "      <th>River</th>\n",
       "      <th>Classification</th>\n",
       "      <th>Rights and Reproduction</th>\n",
       "      <th>Link Resource</th>\n",
       "      <th>Metadata Date</th>\n",
       "      <th>Repository</th>\n",
       "    </tr>\n",
       "  </thead>\n",
       "  <tbody>\n",
       "    <tr>\n",
       "      <th>0</th>\n",
       "      <td>1979.486.1</td>\n",
       "      <td>False</td>\n",
       "      <td>False</td>\n",
       "      <td>1</td>\n",
       "      <td>American Decorative Arts</td>\n",
       "      <td>Coin</td>\n",
       "      <td>One-dollar Liberty Head Coin</td>\n",
       "      <td>NaN</td>\n",
       "      <td>NaN</td>\n",
       "      <td>NaN</td>\n",
       "      <td>...</td>\n",
       "      <td>NaN</td>\n",
       "      <td>NaN</td>\n",
       "      <td>NaN</td>\n",
       "      <td>NaN</td>\n",
       "      <td>NaN</td>\n",
       "      <td>Metal</td>\n",
       "      <td>NaN</td>\n",
       "      <td>http://www.metmuseum.org/art/collection/search/1</td>\n",
       "      <td>9/10/2018 8:00:01 AM</td>\n",
       "      <td>Metropolitan Museum of Art, New York, NY</td>\n",
       "    </tr>\n",
       "    <tr>\n",
       "      <th>1</th>\n",
       "      <td>1980.264.5</td>\n",
       "      <td>False</td>\n",
       "      <td>False</td>\n",
       "      <td>2</td>\n",
       "      <td>American Decorative Arts</td>\n",
       "      <td>Coin</td>\n",
       "      <td>Ten-dollar Liberty Head Coin</td>\n",
       "      <td>NaN</td>\n",
       "      <td>NaN</td>\n",
       "      <td>NaN</td>\n",
       "      <td>...</td>\n",
       "      <td>NaN</td>\n",
       "      <td>NaN</td>\n",
       "      <td>NaN</td>\n",
       "      <td>NaN</td>\n",
       "      <td>NaN</td>\n",
       "      <td>Metal</td>\n",
       "      <td>NaN</td>\n",
       "      <td>http://www.metmuseum.org/art/collection/search/2</td>\n",
       "      <td>9/10/2018 8:00:01 AM</td>\n",
       "      <td>Metropolitan Museum of Art, New York, NY</td>\n",
       "    </tr>\n",
       "    <tr>\n",
       "      <th>2</th>\n",
       "      <td>67.265.9</td>\n",
       "      <td>False</td>\n",
       "      <td>False</td>\n",
       "      <td>3</td>\n",
       "      <td>American Decorative Arts</td>\n",
       "      <td>Coin</td>\n",
       "      <td>Two-and-a-Half Dollar Coin</td>\n",
       "      <td>NaN</td>\n",
       "      <td>NaN</td>\n",
       "      <td>NaN</td>\n",
       "      <td>...</td>\n",
       "      <td>NaN</td>\n",
       "      <td>NaN</td>\n",
       "      <td>NaN</td>\n",
       "      <td>NaN</td>\n",
       "      <td>NaN</td>\n",
       "      <td>Metal</td>\n",
       "      <td>NaN</td>\n",
       "      <td>http://www.metmuseum.org/art/collection/search/3</td>\n",
       "      <td>9/10/2018 8:00:01 AM</td>\n",
       "      <td>Metropolitan Museum of Art, New York, NY</td>\n",
       "    </tr>\n",
       "    <tr>\n",
       "      <th>3</th>\n",
       "      <td>67.265.10</td>\n",
       "      <td>False</td>\n",
       "      <td>False</td>\n",
       "      <td>4</td>\n",
       "      <td>American Decorative Arts</td>\n",
       "      <td>Coin</td>\n",
       "      <td>Two-and-a-Half Dollar Coin</td>\n",
       "      <td>NaN</td>\n",
       "      <td>NaN</td>\n",
       "      <td>NaN</td>\n",
       "      <td>...</td>\n",
       "      <td>NaN</td>\n",
       "      <td>NaN</td>\n",
       "      <td>NaN</td>\n",
       "      <td>NaN</td>\n",
       "      <td>NaN</td>\n",
       "      <td>Metal</td>\n",
       "      <td>NaN</td>\n",
       "      <td>http://www.metmuseum.org/art/collection/search/4</td>\n",
       "      <td>9/10/2018 8:00:01 AM</td>\n",
       "      <td>Metropolitan Museum of Art, New York, NY</td>\n",
       "    </tr>\n",
       "    <tr>\n",
       "      <th>4</th>\n",
       "      <td>67.265.11</td>\n",
       "      <td>False</td>\n",
       "      <td>False</td>\n",
       "      <td>5</td>\n",
       "      <td>American Decorative Arts</td>\n",
       "      <td>Coin</td>\n",
       "      <td>Two-and-a-Half Dollar Coin</td>\n",
       "      <td>NaN</td>\n",
       "      <td>NaN</td>\n",
       "      <td>NaN</td>\n",
       "      <td>...</td>\n",
       "      <td>NaN</td>\n",
       "      <td>NaN</td>\n",
       "      <td>NaN</td>\n",
       "      <td>NaN</td>\n",
       "      <td>NaN</td>\n",
       "      <td>Metal</td>\n",
       "      <td>NaN</td>\n",
       "      <td>http://www.metmuseum.org/art/collection/search/5</td>\n",
       "      <td>9/10/2018 8:00:01 AM</td>\n",
       "      <td>Metropolitan Museum of Art, New York, NY</td>\n",
       "    </tr>\n",
       "    <tr>\n",
       "      <th>5</th>\n",
       "      <td>67.265.12</td>\n",
       "      <td>False</td>\n",
       "      <td>False</td>\n",
       "      <td>6</td>\n",
       "      <td>American Decorative Arts</td>\n",
       "      <td>Coin</td>\n",
       "      <td>Two-and-a-Half Dollar Coin</td>\n",
       "      <td>NaN</td>\n",
       "      <td>NaN</td>\n",
       "      <td>NaN</td>\n",
       "      <td>...</td>\n",
       "      <td>NaN</td>\n",
       "      <td>NaN</td>\n",
       "      <td>NaN</td>\n",
       "      <td>NaN</td>\n",
       "      <td>NaN</td>\n",
       "      <td>Metal</td>\n",
       "      <td>NaN</td>\n",
       "      <td>http://www.metmuseum.org/art/collection/search/6</td>\n",
       "      <td>9/10/2018 8:00:01 AM</td>\n",
       "      <td>Metropolitan Museum of Art, New York, NY</td>\n",
       "    </tr>\n",
       "    <tr>\n",
       "      <th>6</th>\n",
       "      <td>67.265.13</td>\n",
       "      <td>False</td>\n",
       "      <td>False</td>\n",
       "      <td>7</td>\n",
       "      <td>American Decorative Arts</td>\n",
       "      <td>Coin</td>\n",
       "      <td>Two-and-a-Half Dollar Coin</td>\n",
       "      <td>NaN</td>\n",
       "      <td>NaN</td>\n",
       "      <td>NaN</td>\n",
       "      <td>...</td>\n",
       "      <td>NaN</td>\n",
       "      <td>NaN</td>\n",
       "      <td>NaN</td>\n",
       "      <td>NaN</td>\n",
       "      <td>NaN</td>\n",
       "      <td>Metal</td>\n",
       "      <td>NaN</td>\n",
       "      <td>http://www.metmuseum.org/art/collection/search/7</td>\n",
       "      <td>9/10/2018 8:00:01 AM</td>\n",
       "      <td>Metropolitan Museum of Art, New York, NY</td>\n",
       "    </tr>\n",
       "    <tr>\n",
       "      <th>7</th>\n",
       "      <td>67.265.14</td>\n",
       "      <td>False</td>\n",
       "      <td>False</td>\n",
       "      <td>8</td>\n",
       "      <td>American Decorative Arts</td>\n",
       "      <td>Coin</td>\n",
       "      <td>Two-and-a-Half Dollar Coin</td>\n",
       "      <td>NaN</td>\n",
       "      <td>NaN</td>\n",
       "      <td>NaN</td>\n",
       "      <td>...</td>\n",
       "      <td>NaN</td>\n",
       "      <td>NaN</td>\n",
       "      <td>NaN</td>\n",
       "      <td>NaN</td>\n",
       "      <td>NaN</td>\n",
       "      <td>Metal</td>\n",
       "      <td>NaN</td>\n",
       "      <td>http://www.metmuseum.org/art/collection/search/8</td>\n",
       "      <td>9/10/2018 8:00:01 AM</td>\n",
       "      <td>Metropolitan Museum of Art, New York, NY</td>\n",
       "    </tr>\n",
       "    <tr>\n",
       "      <th>8</th>\n",
       "      <td>67.265.15</td>\n",
       "      <td>False</td>\n",
       "      <td>False</td>\n",
       "      <td>9</td>\n",
       "      <td>American Decorative Arts</td>\n",
       "      <td>Coin</td>\n",
       "      <td>Two-and-a-Half Dollar Coin</td>\n",
       "      <td>NaN</td>\n",
       "      <td>NaN</td>\n",
       "      <td>NaN</td>\n",
       "      <td>...</td>\n",
       "      <td>NaN</td>\n",
       "      <td>NaN</td>\n",
       "      <td>NaN</td>\n",
       "      <td>NaN</td>\n",
       "      <td>NaN</td>\n",
       "      <td>Metal</td>\n",
       "      <td>NaN</td>\n",
       "      <td>http://www.metmuseum.org/art/collection/search/9</td>\n",
       "      <td>9/10/2018 8:00:01 AM</td>\n",
       "      <td>Metropolitan Museum of Art, New York, NY</td>\n",
       "    </tr>\n",
       "    <tr>\n",
       "      <th>9</th>\n",
       "      <td>1979.486.3</td>\n",
       "      <td>False</td>\n",
       "      <td>False</td>\n",
       "      <td>10</td>\n",
       "      <td>American Decorative Arts</td>\n",
       "      <td>Coin</td>\n",
       "      <td>Two-and-a-half-dollar Indian Head Coin</td>\n",
       "      <td>NaN</td>\n",
       "      <td>NaN</td>\n",
       "      <td>NaN</td>\n",
       "      <td>...</td>\n",
       "      <td>NaN</td>\n",
       "      <td>NaN</td>\n",
       "      <td>NaN</td>\n",
       "      <td>NaN</td>\n",
       "      <td>NaN</td>\n",
       "      <td>Metal</td>\n",
       "      <td>NaN</td>\n",
       "      <td>http://www.metmuseum.org/art/collection/search/10</td>\n",
       "      <td>9/10/2018 8:00:01 AM</td>\n",
       "      <td>Metropolitan Museum of Art, New York, NY</td>\n",
       "    </tr>\n",
       "  </tbody>\n",
       "</table>\n",
       "<p>10 rows × 43 columns</p>\n",
       "</div>"
      ],
      "text/plain": [
       "  Object Number  Is Highlight  Is Public Domain  Object ID  \\\n",
       "0    1979.486.1         False             False          1   \n",
       "1    1980.264.5         False             False          2   \n",
       "2      67.265.9         False             False          3   \n",
       "3     67.265.10         False             False          4   \n",
       "4     67.265.11         False             False          5   \n",
       "5     67.265.12         False             False          6   \n",
       "6     67.265.13         False             False          7   \n",
       "7     67.265.14         False             False          8   \n",
       "8     67.265.15         False             False          9   \n",
       "9    1979.486.3         False             False         10   \n",
       "\n",
       "                 Department Object Name  \\\n",
       "0  American Decorative Arts        Coin   \n",
       "1  American Decorative Arts        Coin   \n",
       "2  American Decorative Arts        Coin   \n",
       "3  American Decorative Arts        Coin   \n",
       "4  American Decorative Arts        Coin   \n",
       "5  American Decorative Arts        Coin   \n",
       "6  American Decorative Arts        Coin   \n",
       "7  American Decorative Arts        Coin   \n",
       "8  American Decorative Arts        Coin   \n",
       "9  American Decorative Arts        Coin   \n",
       "\n",
       "                                    Title Culture Period Dynasty  \\\n",
       "0            One-dollar Liberty Head Coin     NaN    NaN     NaN   \n",
       "1            Ten-dollar Liberty Head Coin     NaN    NaN     NaN   \n",
       "2              Two-and-a-Half Dollar Coin     NaN    NaN     NaN   \n",
       "3              Two-and-a-Half Dollar Coin     NaN    NaN     NaN   \n",
       "4              Two-and-a-Half Dollar Coin     NaN    NaN     NaN   \n",
       "5              Two-and-a-Half Dollar Coin     NaN    NaN     NaN   \n",
       "6              Two-and-a-Half Dollar Coin     NaN    NaN     NaN   \n",
       "7              Two-and-a-Half Dollar Coin     NaN    NaN     NaN   \n",
       "8              Two-and-a-Half Dollar Coin     NaN    NaN     NaN   \n",
       "9  Two-and-a-half-dollar Indian Head Coin     NaN    NaN     NaN   \n",
       "\n",
       "                     ...                    Subregion Locale Locus Excavation  \\\n",
       "0                    ...                          NaN    NaN   NaN        NaN   \n",
       "1                    ...                          NaN    NaN   NaN        NaN   \n",
       "2                    ...                          NaN    NaN   NaN        NaN   \n",
       "3                    ...                          NaN    NaN   NaN        NaN   \n",
       "4                    ...                          NaN    NaN   NaN        NaN   \n",
       "5                    ...                          NaN    NaN   NaN        NaN   \n",
       "6                    ...                          NaN    NaN   NaN        NaN   \n",
       "7                    ...                          NaN    NaN   NaN        NaN   \n",
       "8                    ...                          NaN    NaN   NaN        NaN   \n",
       "9                    ...                          NaN    NaN   NaN        NaN   \n",
       "\n",
       "  River Classification Rights and Reproduction  \\\n",
       "0   NaN          Metal                     NaN   \n",
       "1   NaN          Metal                     NaN   \n",
       "2   NaN          Metal                     NaN   \n",
       "3   NaN          Metal                     NaN   \n",
       "4   NaN          Metal                     NaN   \n",
       "5   NaN          Metal                     NaN   \n",
       "6   NaN          Metal                     NaN   \n",
       "7   NaN          Metal                     NaN   \n",
       "8   NaN          Metal                     NaN   \n",
       "9   NaN          Metal                     NaN   \n",
       "\n",
       "                                       Link Resource         Metadata Date  \\\n",
       "0   http://www.metmuseum.org/art/collection/search/1  9/10/2018 8:00:01 AM   \n",
       "1   http://www.metmuseum.org/art/collection/search/2  9/10/2018 8:00:01 AM   \n",
       "2   http://www.metmuseum.org/art/collection/search/3  9/10/2018 8:00:01 AM   \n",
       "3   http://www.metmuseum.org/art/collection/search/4  9/10/2018 8:00:01 AM   \n",
       "4   http://www.metmuseum.org/art/collection/search/5  9/10/2018 8:00:01 AM   \n",
       "5   http://www.metmuseum.org/art/collection/search/6  9/10/2018 8:00:01 AM   \n",
       "6   http://www.metmuseum.org/art/collection/search/7  9/10/2018 8:00:01 AM   \n",
       "7   http://www.metmuseum.org/art/collection/search/8  9/10/2018 8:00:01 AM   \n",
       "8   http://www.metmuseum.org/art/collection/search/9  9/10/2018 8:00:01 AM   \n",
       "9  http://www.metmuseum.org/art/collection/search/10  9/10/2018 8:00:01 AM   \n",
       "\n",
       "                                 Repository  \n",
       "0  Metropolitan Museum of Art, New York, NY  \n",
       "1  Metropolitan Museum of Art, New York, NY  \n",
       "2  Metropolitan Museum of Art, New York, NY  \n",
       "3  Metropolitan Museum of Art, New York, NY  \n",
       "4  Metropolitan Museum of Art, New York, NY  \n",
       "5  Metropolitan Museum of Art, New York, NY  \n",
       "6  Metropolitan Museum of Art, New York, NY  \n",
       "7  Metropolitan Museum of Art, New York, NY  \n",
       "8  Metropolitan Museum of Art, New York, NY  \n",
       "9  Metropolitan Museum of Art, New York, NY  \n",
       "\n",
       "[10 rows x 43 columns]"
      ]
     },
     "execution_count": 45,
     "metadata": {},
     "output_type": "execute_result"
    }
   ],
   "source": [
    "df_copy.head(10)"
   ]
  },
  {
   "cell_type": "code",
   "execution_count": 38,
   "metadata": {
    "scrolled": true
   },
   "outputs": [
    {
     "data": {
      "text/plain": [
       "Index(['Object Number', 'Is Highlight', 'Is Public Domain', 'Object ID',\n",
       "       'Department', 'Object Name', 'Title', 'Culture', 'Period', 'Dynasty',\n",
       "       'Reign', 'Portfolio', 'Artist Role', 'Artist Prefix',\n",
       "       'Artist Display Name', 'Artist Display Bio', 'Artist Suffix',\n",
       "       'Artist Alpha Sort', 'Artist Nationality', 'Artist Begin Date',\n",
       "       'Artist End Date', 'Object Date', 'Object Begin Date',\n",
       "       'Object End Date', 'Medium', 'Dimensions', 'Credit Line',\n",
       "       'Geography Type', 'City', 'State', 'County', 'Country', 'Region',\n",
       "       'Subregion', 'Locale', 'Locus', 'Excavation', 'River', 'Classification',\n",
       "       'Rights and Reproduction', 'Link Resource', 'Metadata Date',\n",
       "       'Repository'],\n",
       "      dtype='object')"
      ]
     },
     "execution_count": 38,
     "metadata": {},
     "output_type": "execute_result"
    }
   ],
   "source": [
    "df_copy.keys()"
   ]
  },
  {
   "cell_type": "code",
   "execution_count": 44,
   "metadata": {},
   "outputs": [
    {
     "name": "stdout",
     "output_type": "stream",
     "text": [
      "<class 'pandas.core.frame.DataFrame'>\n",
      "RangeIndex: 468947 entries, 0 to 468946\n",
      "Data columns (total 43 columns):\n",
      "Object Number              468947 non-null object\n",
      "Is Highlight               468947 non-null bool\n",
      "Is Public Domain           468947 non-null bool\n",
      "Object ID                  468947 non-null int64\n",
      "Department                 468947 non-null object\n",
      "Object Name                465029 non-null object\n",
      "Title                      437863 non-null object\n",
      "Culture                    192115 non-null object\n",
      "Period                     72794 non-null object\n",
      "Dynasty                    22956 non-null object\n",
      "Reign                      10883 non-null object\n",
      "Portfolio                  21837 non-null object\n",
      "Artist Role                279279 non-null object\n",
      "Artist Prefix              95015 non-null object\n",
      "Artist Display Name        280495 non-null object\n",
      "Artist Display Bio         234272 non-null object\n",
      "Artist Suffix              10733 non-null object\n",
      "Artist Alpha Sort          280467 non-null object\n",
      "Artist Nationality         193740 non-null object\n",
      "Artist Begin Date          235307 non-null object\n",
      "Artist End Date            232577 non-null object\n",
      "Object Date                453847 non-null object\n",
      "Object Begin Date          468947 non-null int64\n",
      "Object End Date            468947 non-null int64\n",
      "Medium                     461320 non-null object\n",
      "Dimensions                 408080 non-null object\n",
      "Credit Line                468190 non-null object\n",
      "Geography Type             59771 non-null object\n",
      "City                       32067 non-null object\n",
      "State                      2755 non-null object\n",
      "County                     8459 non-null object\n",
      "Country                    76108 non-null object\n",
      "Region                     31434 non-null object\n",
      "Subregion                  21753 non-null object\n",
      "Locale                     15159 non-null object\n",
      "Locus                      7102 non-null object\n",
      "Excavation                 15559 non-null object\n",
      "River                      2098 non-null object\n",
      "Classification             412887 non-null object\n",
      "Rights and Reproduction    24322 non-null object\n",
      "Link Resource              468947 non-null object\n",
      "Metadata Date              468947 non-null object\n",
      "Repository                 468947 non-null object\n",
      "dtypes: bool(2), int64(3), object(38)\n",
      "memory usage: 147.6+ MB\n"
     ]
    }
   ],
   "source": [
    "df_copy.info()"
   ]
  },
  {
   "cell_type": "code",
   "execution_count": 218,
   "metadata": {
    "collapsed": true
   },
   "outputs": [],
   "source": [
    "#[int(s) for s in a.str.split() if s.isdigit()]"
   ]
  },
  {
   "cell_type": "markdown",
   "metadata": {
    "collapsed": true
   },
   "source": [
    "# Feature Engineering"
   ]
  },
  {
   "cell_type": "code",
   "execution_count": 17,
   "metadata": {},
   "outputs": [],
   "source": [
    "from sklearn import model_selection, preprocessing, linear_model, naive_bayes, metrics, svm\n",
    "from sklearn.feature_extraction.text import TfidfVectorizer, CountVectorizer\n",
    "from sklearn import decomposition, ensemble\n",
    "#from keras.preprocessing import text, sequence\n",
    "#from keras import layers, models, optimizers\n",
    "#import xgboost as xgb\n",
    "#numpy, textblob, string"
   ]
  },
  {
   "cell_type": "code",
   "execution_count": 74,
   "metadata": {
    "scrolled": true
   },
   "outputs": [],
   "source": [
    "Feature=df[['Department','Object Name']]"
   ]
  },
  {
   "cell_type": "code",
   "execution_count": 75,
   "metadata": {
    "scrolled": true
   },
   "outputs": [
    {
     "data": {
      "text/html": [
       "<div>\n",
       "<style>\n",
       "    .dataframe thead tr:only-child th {\n",
       "        text-align: right;\n",
       "    }\n",
       "\n",
       "    .dataframe thead th {\n",
       "        text-align: left;\n",
       "    }\n",
       "\n",
       "    .dataframe tbody tr th {\n",
       "        vertical-align: top;\n",
       "    }\n",
       "</style>\n",
       "<table border=\"1\" class=\"dataframe\">\n",
       "  <thead>\n",
       "    <tr style=\"text-align: right;\">\n",
       "      <th></th>\n",
       "      <th>Department</th>\n",
       "      <th>Object Name</th>\n",
       "    </tr>\n",
       "  </thead>\n",
       "  <tbody>\n",
       "    <tr>\n",
       "      <th>count</th>\n",
       "      <td>468947</td>\n",
       "      <td>465029</td>\n",
       "    </tr>\n",
       "    <tr>\n",
       "      <th>unique</th>\n",
       "      <td>19</td>\n",
       "      <td>27662</td>\n",
       "    </tr>\n",
       "    <tr>\n",
       "      <th>top</th>\n",
       "      <td>Drawings and Prints</td>\n",
       "      <td>Print</td>\n",
       "    </tr>\n",
       "    <tr>\n",
       "      <th>freq</th>\n",
       "      <td>171026</td>\n",
       "      <td>97959</td>\n",
       "    </tr>\n",
       "  </tbody>\n",
       "</table>\n",
       "</div>"
      ],
      "text/plain": [
       "                 Department Object Name\n",
       "count                468947      465029\n",
       "unique                   19       27662\n",
       "top     Drawings and Prints       Print\n",
       "freq                 171026       97959"
      ]
     },
     "execution_count": 75,
     "metadata": {},
     "output_type": "execute_result"
    }
   ],
   "source": [
    "#dropna for Count Vectors\n",
    "Feature.describe()"
   ]
  },
  {
   "cell_type": "code",
   "execution_count": 76,
   "metadata": {},
   "outputs": [
    {
     "data": {
      "text/html": [
       "<div>\n",
       "<style>\n",
       "    .dataframe thead tr:only-child th {\n",
       "        text-align: right;\n",
       "    }\n",
       "\n",
       "    .dataframe thead th {\n",
       "        text-align: left;\n",
       "    }\n",
       "\n",
       "    .dataframe tbody tr th {\n",
       "        vertical-align: top;\n",
       "    }\n",
       "</style>\n",
       "<table border=\"1\" class=\"dataframe\">\n",
       "  <thead>\n",
       "    <tr style=\"text-align: right;\">\n",
       "      <th></th>\n",
       "      <th>Department</th>\n",
       "      <th>Object Name</th>\n",
       "    </tr>\n",
       "  </thead>\n",
       "  <tbody>\n",
       "    <tr>\n",
       "      <th>count</th>\n",
       "      <td>465029</td>\n",
       "      <td>465029</td>\n",
       "    </tr>\n",
       "    <tr>\n",
       "      <th>unique</th>\n",
       "      <td>18</td>\n",
       "      <td>27662</td>\n",
       "    </tr>\n",
       "    <tr>\n",
       "      <th>top</th>\n",
       "      <td>Drawings and Prints</td>\n",
       "      <td>Print</td>\n",
       "    </tr>\n",
       "    <tr>\n",
       "      <th>freq</th>\n",
       "      <td>170660</td>\n",
       "      <td>97959</td>\n",
       "    </tr>\n",
       "  </tbody>\n",
       "</table>\n",
       "</div>"
      ],
      "text/plain": [
       "                 Department Object Name\n",
       "count                465029      465029\n",
       "unique                   18       27662\n",
       "top     Drawings and Prints       Print\n",
       "freq                 170660       97959"
      ]
     },
     "execution_count": 76,
     "metadata": {},
     "output_type": "execute_result"
    }
   ],
   "source": [
    "Feature = Feature.dropna()\n",
    "Feature.describe()"
   ]
  },
  {
   "cell_type": "code",
   "execution_count": 77,
   "metadata": {
    "collapsed": true
   },
   "outputs": [],
   "source": [
    "# Text\n",
    "X=Feature.iloc[:,1]\n",
    "# Label\n",
    "y=Feature.iloc[:,0]"
   ]
  },
  {
   "cell_type": "markdown",
   "metadata": {},
   "source": [
    "# 1. Count Vectors"
   ]
  },
  {
   "cell_type": "code",
   "execution_count": 105,
   "metadata": {},
   "outputs": [],
   "source": [
    "# split the dataset into training and validation datasets \n",
    "from sklearn.model_selection import train_test_split\n",
    "#文字也可归类为数字\n",
    "from sklearn import preprocessing\n",
    "X_train, X_test, y_train, y_test = train_test_split(X, y, test_size=0.2, random_state=42)\n",
    "# label encode the target variable \n",
    "le=preprocessing.LabelEncoder()\n",
    "y_train=le.fit(y_train)\n",
    "y_test=le.fit(y_test)"
   ]
  },
  {
   "cell_type": "code",
   "execution_count": 106,
   "metadata": {},
   "outputs": [
    {
     "data": {
      "text/plain": [
       "CountVectorizer(analyzer='word', binary=False, decode_error='strict',\n",
       "        dtype=<class 'numpy.int64'>, encoding='utf-8', input='content',\n",
       "        lowercase=True, max_df=1.0, max_features=None, min_df=1,\n",
       "        ngram_range=(1, 1), preprocessor=None, stop_words='english',\n",
       "        strip_accents=None, token_pattern='\\\\w{1,}', tokenizer=None,\n",
       "        vocabulary=None)"
      ]
     },
     "execution_count": 106,
     "metadata": {},
     "output_type": "execute_result"
    }
   ],
   "source": [
    "# Count Vectors as features\n",
    "# create a count vectorizer object \n",
    "count_vect = CountVectorizer(stop_words='english', token_pattern=r'\\w{1,}')\n",
    "#count_vect=tfidf_vect = TfidfVectorizer(analyzer='word', token_pattern=r'\\w{1,}', max_features=5000)\n",
    "count_vect.fit(X)"
   ]
  },
  {
   "cell_type": "code",
   "execution_count": 107,
   "metadata": {
    "collapsed": true
   },
   "outputs": [],
   "source": [
    "# transform the training and validation data using count vectorizer object\n",
    "xtrain_count =  count_vect.transform(X_train)\n",
    "xtest_count =  count_vect.transform(X_test)"
   ]
  },
  {
   "cell_type": "code",
   "execution_count": 95,
   "metadata": {
    "scrolled": true
   },
   "outputs": [
    {
     "data": {
      "text/plain": [
       "array([[0, 0, 0, ..., 0, 0, 0],\n",
       "       [0, 0, 0, ..., 0, 0, 0],\n",
       "       [0, 0, 0, ..., 0, 0, 0],\n",
       "       ..., \n",
       "       [0, 0, 0, ..., 0, 0, 0],\n",
       "       [0, 0, 0, ..., 0, 0, 0],\n",
       "       [0, 0, 0, ..., 0, 0, 0]])"
      ]
     },
     "execution_count": 95,
     "metadata": {},
     "output_type": "execute_result"
    }
   ],
   "source": [
    "array1=xtrain_count.toarray()\n",
    "array1"
   ]
  },
  {
   "cell_type": "code",
   "execution_count": 94,
   "metadata": {},
   "outputs": [
    {
     "data": {
      "text/plain": [
       "[array(['print'],\n",
       "       dtype='<U20')]"
      ]
     },
     "execution_count": 94,
     "metadata": {},
     "output_type": "execute_result"
    }
   ],
   "source": [
    "#把数字转换回文字\n",
    "count_vect.inverse_transform(array1[0])"
   ]
  },
  {
   "cell_type": "code",
   "execution_count": 101,
   "metadata": {
    "scrolled": false
   },
   "outputs": [
    {
     "data": {
      "text/plain": [
       "['07',\n",
       " '08',\n",
       " '09',\n",
       " '1',\n",
       " '10',\n",
       " '100',\n",
       " '101',\n",
       " '102',\n",
       " '103',\n",
       " '104',\n",
       " '108',\n",
       " '109',\n",
       " '11',\n",
       " '110',\n",
       " '118',\n",
       " '118v',\n",
       " '119',\n",
       " '12',\n",
       " '120',\n",
       " '121',\n",
       " '1236',\n",
       " '125',\n",
       " '128',\n",
       " '129',\n",
       " '13',\n",
       " '130',\n",
       " '131',\n",
       " '134',\n",
       " '136',\n",
       " '139',\n",
       " '13a',\n",
       " '14',\n",
       " '15',\n",
       " '1500',\n",
       " '1506',\n",
       " '151',\n",
       " '155',\n",
       " '1561',\n",
       " '158',\n",
       " '15th',\n",
       " '16',\n",
       " '161',\n",
       " '162',\n",
       " '1699',\n",
       " '16th',\n",
       " '17',\n",
       " '172',\n",
       " '1720',\n",
       " '1762',\n",
       " '179',\n",
       " '18',\n",
       " '180',\n",
       " '181',\n",
       " '182',\n",
       " '184',\n",
       " '1847',\n",
       " '187',\n",
       " '18a',\n",
       " '19',\n",
       " '190',\n",
       " '193',\n",
       " '195',\n",
       " '196',\n",
       " '1991',\n",
       " '2',\n",
       " '20',\n",
       " '200',\n",
       " '203tt',\n",
       " '203ttt',\n",
       " '204',\n",
       " '207',\n",
       " '208',\n",
       " '209',\n",
       " '20th',\n",
       " '21',\n",
       " '211a',\n",
       " '215',\n",
       " '216a',\n",
       " '217',\n",
       " '22',\n",
       " '222',\n",
       " '226',\n",
       " '227',\n",
       " '228',\n",
       " '23',\n",
       " '24',\n",
       " '240',\n",
       " '25',\n",
       " '26',\n",
       " '261',\n",
       " '27',\n",
       " '271',\n",
       " '276',\n",
       " '277',\n",
       " '279',\n",
       " '28',\n",
       " '280',\n",
       " '29',\n",
       " '296',\n",
       " '3',\n",
       " '30',\n",
       " '302',\n",
       " '30m',\n",
       " '31',\n",
       " '311',\n",
       " '316v',\n",
       " '317',\n",
       " '32',\n",
       " '33',\n",
       " '34',\n",
       " '341',\n",
       " '349',\n",
       " '35',\n",
       " '353',\n",
       " '36',\n",
       " '366',\n",
       " '37',\n",
       " '38',\n",
       " '380',\n",
       " '39',\n",
       " '3rd',\n",
       " '4',\n",
       " '40',\n",
       " '41',\n",
       " '42',\n",
       " '428',\n",
       " '42a',\n",
       " '43',\n",
       " '431',\n",
       " '434v',\n",
       " '435',\n",
       " '435v',\n",
       " '436',\n",
       " '44',\n",
       " '440v',\n",
       " '441',\n",
       " '442v',\n",
       " '443',\n",
       " '444v',\n",
       " '445',\n",
       " '448v',\n",
       " '449',\n",
       " '45',\n",
       " '455',\n",
       " '46',\n",
       " '466',\n",
       " '47',\n",
       " '48',\n",
       " '487',\n",
       " '49',\n",
       " '499',\n",
       " '4th',\n",
       " '5',\n",
       " '50',\n",
       " '502',\n",
       " '508',\n",
       " '509',\n",
       " '51',\n",
       " '52',\n",
       " '53',\n",
       " '54',\n",
       " '55',\n",
       " '553',\n",
       " '56',\n",
       " '57',\n",
       " '570',\n",
       " '584',\n",
       " '585',\n",
       " '6',\n",
       " '60',\n",
       " '600',\n",
       " '608',\n",
       " '60a',\n",
       " '61a',\n",
       " '62',\n",
       " '63',\n",
       " '64',\n",
       " '65',\n",
       " '65c',\n",
       " '66',\n",
       " '67',\n",
       " '69',\n",
       " '6th',\n",
       " '7',\n",
       " '70',\n",
       " '71',\n",
       " '72',\n",
       " '723a',\n",
       " '7264',\n",
       " '73',\n",
       " '732',\n",
       " '74',\n",
       " '75',\n",
       " '78',\n",
       " '79',\n",
       " '8',\n",
       " '80',\n",
       " '800',\n",
       " '81',\n",
       " '82',\n",
       " '820',\n",
       " '83',\n",
       " '840',\n",
       " '85',\n",
       " '86',\n",
       " '87',\n",
       " '89',\n",
       " '9',\n",
       " '90',\n",
       " '92',\n",
       " '93',\n",
       " '95a',\n",
       " '96',\n",
       " '97',\n",
       " '99',\n",
       " 'aa',\n",
       " 'aafenmut',\n",
       " 'aakheperenre',\n",
       " 'aakheperkare',\n",
       " 'aakheperkareseneb',\n",
       " 'aakheperure',\n",
       " 'aakhepherkare',\n",
       " 'aamtju',\n",
       " 'aamy',\n",
       " 'aanen',\n",
       " 'aashyt',\n",
       " 'aba',\n",
       " 'abacus',\n",
       " 'abattant',\n",
       " 'abbot',\n",
       " 'abdomen',\n",
       " 'abdominal',\n",
       " 'abekh',\n",
       " 'abemweskhet',\n",
       " 'abkau',\n",
       " 'abstract',\n",
       " 'abstracted',\n",
       " 'abu',\n",
       " 'abumi',\n",
       " 'abydos',\n",
       " 'acacia',\n",
       " 'acanthus',\n",
       " 'acc',\n",
       " 'accession',\n",
       " 'accessories',\n",
       " 'accessory',\n",
       " 'accordion',\n",
       " 'account',\n",
       " 'accounts',\n",
       " 'acheloos',\n",
       " 'acheloös',\n",
       " 'achilles',\n",
       " 'acolyte',\n",
       " 'acorn',\n",
       " 'acorns',\n",
       " 'acoustic',\n",
       " 'acrobat',\n",
       " 'action',\n",
       " 'activities',\n",
       " 'actor',\n",
       " 'ad',\n",
       " 'adarga',\n",
       " 'additional',\n",
       " 'address',\n",
       " 'adjoining',\n",
       " 'admetus',\n",
       " 'administrative',\n",
       " 'adoration',\n",
       " 'adoratress',\n",
       " 'adoratrice',\n",
       " 'adorned',\n",
       " 'adult',\n",
       " 'advertisement',\n",
       " 'advertising',\n",
       " 'adze',\n",
       " 'adọdwe',\n",
       " 'ae2',\n",
       " 'aedicula',\n",
       " 'aegean',\n",
       " 'aegis',\n",
       " 'aegyptiaca',\n",
       " 'aegyptiaci',\n",
       " 'aeolian',\n",
       " 'aep',\n",
       " 'aerophone',\n",
       " 'aes',\n",
       " 'africa',\n",
       " 'african',\n",
       " 'afternoon',\n",
       " 'afuche',\n",
       " 'agate',\n",
       " 'agathodaimon',\n",
       " 'agba',\n",
       " 'age',\n",
       " 'ageng',\n",
       " 'agogo',\n",
       " 'agong',\n",
       " 'agriculture',\n",
       " 'agrippa',\n",
       " 'agrippina',\n",
       " 'agujeta',\n",
       " 'agwel',\n",
       " 'agūz',\n",
       " 'ah',\n",
       " 'ahhotep',\n",
       " 'ahianmwen',\n",
       " 'ahlspiess',\n",
       " 'ahmose',\n",
       " 'ai',\n",
       " 'aidoion',\n",
       " 'aigote',\n",
       " 'aigrette',\n",
       " 'aiguillette',\n",
       " 'aikuchi',\n",
       " 'aina',\n",
       " 'ainu',\n",
       " 'air',\n",
       " 'airplane',\n",
       " 'ajaeng',\n",
       " 'ajax',\n",
       " 'aje',\n",
       " 'aka',\n",
       " 'akam',\n",
       " 'akanosh',\n",
       " 'akhamenru',\n",
       " 'akhenaten',\n",
       " 'akhenateni',\n",
       " 'akhetamenru',\n",
       " 'akhtihotep',\n",
       " 'aki',\n",
       " 'akoda',\n",
       " 'akroterion',\n",
       " 'akwara',\n",
       " 'al',\n",
       " 'alabaster',\n",
       " 'alabastron',\n",
       " 'alal',\n",
       " 'alarm',\n",
       " 'alb',\n",
       " 'albarello',\n",
       " 'album',\n",
       " 'albumen',\n",
       " 'albums',\n",
       " 'alcove',\n",
       " 'aldobrandini',\n",
       " 'ale',\n",
       " 'alembic',\n",
       " 'alencon',\n",
       " 'alessandro',\n",
       " 'alexander',\n",
       " 'alexandria',\n",
       " 'alexandrian',\n",
       " 'alexandrum',\n",
       " 'algaita',\n",
       " 'algoja',\n",
       " 'ali',\n",
       " 'alkestis',\n",
       " 'alla',\n",
       " 'allegorical',\n",
       " 'almain',\n",
       " 'almond',\n",
       " 'alms',\n",
       " 'alphabet',\n",
       " 'alpine',\n",
       " 'altar',\n",
       " 'altarcloth',\n",
       " 'altarpiece',\n",
       " 'altars',\n",
       " 'alternating',\n",
       " 'altitude',\n",
       " 'alto',\n",
       " 'amarna',\n",
       " 'amasis',\n",
       " 'amathus',\n",
       " 'amazon',\n",
       " 'amazonomachy',\n",
       " 'amber',\n",
       " 'ambrotype',\n",
       " 'amduat',\n",
       " 'amen',\n",
       " 'amenehat',\n",
       " 'amenemhab',\n",
       " 'amenemhat',\n",
       " 'amenemhatankh',\n",
       " 'ameneminet',\n",
       " 'amenemipet',\n",
       " 'amenemone',\n",
       " 'amenemopet',\n",
       " 'amenemopetemhat',\n",
       " 'amenemweskhet',\n",
       " 'amenherkhepeshef',\n",
       " 'amenhotep',\n",
       " 'amenhotepsise',\n",
       " 'amenirdis',\n",
       " 'amenmesse',\n",
       " 'amenmesu',\n",
       " 'amenmose',\n",
       " 'amennakht',\n",
       " 'amenopet',\n",
       " 'amenpakhered',\n",
       " 'ameny',\n",
       " 'amenyseneb',\n",
       " 'amethyst',\n",
       " 'amice',\n",
       " 'amma',\n",
       " 'ammon',\n",
       " 'ammunition',\n",
       " 'amor',\n",
       " 'amore',\n",
       " 'amphora',\n",
       " 'amphoriskos',\n",
       " 'amplifier',\n",
       " 'ampulla',\n",
       " 'amulet',\n",
       " 'amuletic',\n",
       " 'amuletl',\n",
       " 'amulets',\n",
       " 'amulett',\n",
       " 'amun',\n",
       " 'amunedjeh',\n",
       " 'amunet',\n",
       " 'amunnakht',\n",
       " 'amunpakhered',\n",
       " 'amunrehotep',\n",
       " 'amygdaloid',\n",
       " 'anadyomene',\n",
       " 'ancestor',\n",
       " 'ancestral',\n",
       " 'anchor',\n",
       " 'ancient',\n",
       " 'anciently',\n",
       " 'ancus',\n",
       " 'andiron',\n",
       " 'andirons',\n",
       " 'andromache',\n",
       " 'andromeda',\n",
       " 'anedjty',\n",
       " 'anen',\n",
       " 'angarkha',\n",
       " 'angel',\n",
       " 'angelico',\n",
       " 'angklung',\n",
       " 'angkongtho',\n",
       " 'anglaise',\n",
       " 'angle',\n",
       " 'angra',\n",
       " 'anhur',\n",
       " 'animal',\n",
       " 'animals',\n",
       " 'animation',\n",
       " 'ankh',\n",
       " 'ankhef',\n",
       " 'ankhefen',\n",
       " 'ankhemtenenet',\n",
       " 'ankhenes',\n",
       " 'ankhesenamun',\n",
       " 'ankhesenpaaten',\n",
       " 'ankhesmut',\n",
       " 'ankhhor',\n",
       " 'ankhpakhered',\n",
       " 'ankhs',\n",
       " 'ankhshepenwepet',\n",
       " 'ankhti',\n",
       " 'ankhty',\n",
       " 'ankhwennefer',\n",
       " 'anklang',\n",
       " 'ankle',\n",
       " 'anklet',\n",
       " 'anklets',\n",
       " 'anklung',\n",
       " 'ankus',\n",
       " 'annaberg',\n",
       " 'announcement',\n",
       " 'anonymous',\n",
       " 'anra',\n",
       " 'anresenmes',\n",
       " 'ant',\n",
       " 'antefix',\n",
       " 'antelope',\n",
       " 'antelopes',\n",
       " 'antennae',\n",
       " 'antependium',\n",
       " 'anthemia',\n",
       " 'anthropoid',\n",
       " 'anthropomorph',\n",
       " 'anthropomorphic',\n",
       " 'antica',\n",
       " 'antigenes',\n",
       " 'antinoos',\n",
       " 'antioch',\n",
       " 'antiocheia',\n",
       " 'antiochia',\n",
       " 'antiochus',\n",
       " 'antipater',\n",
       " 'antiphonary',\n",
       " 'antique',\n",
       " 'antlers',\n",
       " 'antoninianus',\n",
       " 'antoninus',\n",
       " 'antonius',\n",
       " 'antony',\n",
       " 'antsiva',\n",
       " 'antyhotep',\n",
       " 'anu',\n",
       " 'anubis',\n",
       " 'anuket',\n",
       " 'anukis',\n",
       " 'anvil',\n",
       " 'anx',\n",
       " 'aori',\n",
       " 'apa',\n",
       " 'apartments',\n",
       " 'ape',\n",
       " 'apepa',\n",
       " 'aper',\n",
       " 'apes',\n",
       " 'aphrodite',\n",
       " 'aping',\n",
       " 'apinti',\n",
       " 'apis',\n",
       " 'apocalypse',\n",
       " 'apollo',\n",
       " 'apollonas',\n",
       " 'apolonides',\n",
       " 'apophis',\n",
       " 'apostle',\n",
       " 'apothecary',\n",
       " 'apotropaic',\n",
       " 'appalachian',\n",
       " 'apparatus',\n",
       " 'apparel',\n",
       " 'appearing',\n",
       " 'appendage',\n",
       " 'appendages',\n",
       " 'apple',\n",
       " 'apples',\n",
       " 'appleton',\n",
       " 'applicator',\n",
       " 'applied',\n",
       " 'applique',\n",
       " 'appliques',\n",
       " 'appliqué',\n",
       " 'appliqués',\n",
       " 'appointment',\n",
       " 'apprentice',\n",
       " 'approved',\n",
       " 'approx',\n",
       " 'apries',\n",
       " 'apron',\n",
       " 'apse',\n",
       " 'apulian',\n",
       " 'aquamanile',\n",
       " 'aquatic',\n",
       " 'arbawija',\n",
       " 'arbor',\n",
       " 'arc',\n",
       " 'arca',\n",
       " 'arcade',\n",
       " 'arcadian',\n",
       " 'arch',\n",
       " 'archcitecture',\n",
       " 'arched',\n",
       " 'archer',\n",
       " 'archers',\n",
       " 'archery',\n",
       " 'arches',\n",
       " 'archiecture',\n",
       " 'architect',\n",
       " 'architectire',\n",
       " 'architectture',\n",
       " 'architectura',\n",
       " 'architectural',\n",
       " 'architecture',\n",
       " 'architecturedrawing',\n",
       " 'architetcure',\n",
       " 'architrave',\n",
       " 'archival',\n",
       " 'archives',\n",
       " 'archivolt',\n",
       " 'archlute',\n",
       " 'archtop',\n",
       " 'archway',\n",
       " 'area',\n",
       " 'arena',\n",
       " 'ares',\n",
       " 'argand',\n",
       " 'arghol',\n",
       " 'arghoul',\n",
       " 'arghul',\n",
       " 'arghūl',\n",
       " 'argyle',\n",
       " 'ariballos',\n",
       " 'arija',\n",
       " 'arimasp',\n",
       " 'aristagoras',\n",
       " 'aristocrat',\n",
       " 'aristodamos',\n",
       " 'aristogeiton',\n",
       " 'aristokretes',\n",
       " 'aristomache',\n",
       " 'ariston',\n",
       " 'arivāl',\n",
       " 'ark',\n",
       " 'arm',\n",
       " 'armature',\n",
       " 'armband',\n",
       " 'armchair',\n",
       " 'armchairs',\n",
       " 'armed',\n",
       " 'armenica',\n",
       " 'armet',\n",
       " 'armless',\n",
       " 'armlet',\n",
       " 'armlets',\n",
       " 'armoire',\n",
       " 'armor',\n",
       " 'armored',\n",
       " 'armorer',\n",
       " 'armorial',\n",
       " 'armors',\n",
       " 'armpit',\n",
       " 'armrest',\n",
       " 'arms',\n",
       " 'army',\n",
       " 'aromatic',\n",
       " 'arpa',\n",
       " 'arpeggione',\n",
       " 'arquebvseries',\n",
       " 'arrakeb',\n",
       " 'arranged',\n",
       " 'arrow',\n",
       " 'arrowhead',\n",
       " 'arrowheads',\n",
       " 'arrowpoints',\n",
       " 'arrows',\n",
       " 'arsinoe',\n",
       " 'art',\n",
       " 'artaxerxes',\n",
       " 'artemidora',\n",
       " 'artemidoros',\n",
       " 'artemis',\n",
       " 'article',\n",
       " 'articulated',\n",
       " 'artificial',\n",
       " 'artillerist',\n",
       " 'artinia',\n",
       " 'artisan',\n",
       " 'artisans',\n",
       " 'artist',\n",
       " 'artists',\n",
       " 'aruding',\n",
       " 'ary',\n",
       " 'aryballos',\n",
       " 'ascot',\n",
       " 'asetemakhbit',\n",
       " 'ash',\n",
       " 'asha',\n",
       " 'ashtray',\n",
       " 'asian',\n",
       " 'asians',\n",
       " 'asiatic',\n",
       " 'asiatics',\n",
       " 'asklepios',\n",
       " 'askos',\n",
       " 'asparagus',\n",
       " 'asperges',\n",
       " 'ass',\n",
       " 'assemblage',\n",
       " 'associated',\n",
       " 'assorted',\n",
       " 'assyrian',\n",
       " 'astarte',\n",
       " 'astragal',\n",
       " 'astral',\n",
       " 'astrolabe',\n",
       " 'astronomer',\n",
       " 'astronomical',\n",
       " 'asymmetrically',\n",
       " 'atari',\n",
       " 'ate',\n",
       " 'atef',\n",
       " 'atelier',\n",
       " 'aten',\n",
       " 'athen',\n",
       " 'athena',\n",
       " 'athenian',\n",
       " 'athlete',\n",
       " 'athletic',\n",
       " 'athribis',\n",
       " 'athéniennes',\n",
       " 'atlantid',\n",
       " 'atlas',\n",
       " 'atopolis',\n",
       " 'atre',\n",
       " 'atsuita',\n",
       " 'attached',\n",
       " 'attachment',\n",
       " 'attachments',\n",
       " 'attacked',\n",
       " 'attacking',\n",
       " 'attendant',\n",
       " 'attendants',\n",
       " 'attitude',\n",
       " 'attribute',\n",
       " 'atum',\n",
       " 'atumemtaneb',\n",
       " 'atumpan',\n",
       " 'aty',\n",
       " 'atypical',\n",
       " 'até',\n",
       " 'atē',\n",
       " 'au',\n",
       " 'aucissa',\n",
       " 'audiocassette',\n",
       " 'augustus',\n",
       " 'aurei',\n",
       " 'aurelius',\n",
       " 'aureus',\n",
       " 'auspicious',\n",
       " 'austere',\n",
       " 'austrian',\n",
       " 'authenticity',\n",
       " 'autobiographic',\n",
       " 'autochrome',\n",
       " 'autograph',\n",
       " 'automaton',\n",
       " 'autophone',\n",
       " 'avb',\n",
       " 'avec',\n",
       " 'aventail',\n",
       " 'aviary',\n",
       " 'awanu',\n",
       " 'awl',\n",
       " 'ax',\n",
       " 'axatse',\n",
       " 'axe',\n",
       " 'axehead',\n",
       " 'axes',\n",
       " 'axle',\n",
       " 'ay',\n",
       " 'aya',\n",
       " 'ayda',\n",
       " 'aye',\n",
       " 'aztec',\n",
       " 'b',\n",
       " 'ba',\n",
       " 'baal',\n",
       " 'babaef',\n",
       " 'baboon',\n",
       " 'baboons',\n",
       " 'baby',\n",
       " 'bacchis',\n",
       " 'bacha',\n",
       " 'backdrop',\n",
       " 'backflap',\n",
       " 'backgammon',\n",
       " 'backplate',\n",
       " 'backrest',\n",
       " 'backs',\n",
       " 'bade',\n",
       " 'badge',\n",
       " 'badges',\n",
       " 'badly',\n",
       " 'bag',\n",
       " 'bagh',\n",
       " 'bagpipe',\n",
       " 'bags',\n",
       " 'bahri',\n",
       " 'bail',\n",
       " 'bailer',\n",
       " 'bailiff',\n",
       " 'bait',\n",
       " 'bajiao',\n",
       " 'bajsek',\n",
       " 'bak',\n",
       " 'bakenkhonsu',\n",
       " 'bakenrenef',\n",
       " 'baker',\n",
       " 'bakers',\n",
       " 'bakery',\n",
       " 'baketamun',\n",
       " 'baki',\n",
       " 'baking',\n",
       " 'bako',\n",
       " 'bala',\n",
       " 'balabala',\n",
       " 'balaban',\n",
       " 'balafon',\n",
       " 'balalaika',\n",
       " 'balance',\n",
       " 'balanites',\n",
       " 'balcony',\n",
       " 'bald',\n",
       " 'baldachin',\n",
       " 'baldric',\n",
       " 'balestrino',\n",
       " 'balingbing',\n",
       " 'balk',\n",
       " 'balkan',\n",
       " 'ball',\n",
       " 'ballad',\n",
       " 'ballista',\n",
       " 'ballock',\n",
       " 'balloon',\n",
       " 'balls',\n",
       " 'balmorals',\n",
       " 'balta',\n",
       " 'baluster',\n",
       " 'balusters',\n",
       " 'balustrade',\n",
       " 'balustrades',\n",
       " 'bamboo',\n",
       " 'banam',\n",
       " 'banco',\n",
       " 'band',\n",
       " 'bandage',\n",
       " 'bandages',\n",
       " 'bandana',\n",
       " 'bandar',\n",
       " 'bandeau',\n",
       " 'bandoleer',\n",
       " 'bandolier',\n",
       " 'bandolin',\n",
       " 'bandonian',\n",
       " 'bandora',\n",
       " 'bands',\n",
       " 'bandura',\n",
       " 'banduria',\n",
       " 'bandurria',\n",
       " 'banebdjed',\n",
       " 'bangle',\n",
       " 'bangles',\n",
       " 'bangu',\n",
       " 'banister',\n",
       " 'banjo',\n",
       " 'bank',\n",
       " 'banner',\n",
       " 'banneret',\n",
       " 'bannerstone',\n",
       " 'banquet',\n",
       " 'banqueter',\n",
       " 'banquette',\n",
       " 'banya',\n",
       " 'banyan',\n",
       " 'baptism',\n",
       " 'baptismal',\n",
       " 'bar',\n",
       " 'barang',\n",
       " 'barbarian',\n",
       " 'barbe',\n",
       " 'barber',\n",
       " 'barbus',\n",
       " 'barbute',\n",
       " 'barge',\n",
       " 'barimbaw',\n",
       " 'baritone',\n",
       " 'bark',\n",
       " 'barkcloth',\n",
       " 'barley',\n",
       " 'barometer',\n",
       " 'barong',\n",
       " 'barque',\n",
       " 'barrel',\n",
       " 'barreled',\n",
       " 'barrels',\n",
       " 'barrette',\n",
       " 'bars',\n",
       " 'barubtdan',\n",
       " 'barung',\n",
       " 'barutdan',\n",
       " 'baryton',\n",
       " 'bas',\n",
       " 'basa',\n",
       " 'bascinet',\n",
       " 'base',\n",
       " 'baseball',\n",
       " 'based',\n",
       " 'bases',\n",
       " 'bashin',\n",
       " 'bashlik',\n",
       " 'basilard',\n",
       " 'basilisk',\n",
       " 'basin',\n",
       " 'basinet',\n",
       " 'basins',\n",
       " 'basket',\n",
       " 'basketry',\n",
       " 'baskets',\n",
       " 'basque',\n",
       " 'basquine',\n",
       " 'bass',\n",
       " 'basset',\n",
       " 'basso',\n",
       " 'bassoon',\n",
       " 'bast',\n",
       " 'basta',\n",
       " 'bastet',\n",
       " 'bat',\n",
       " 'bata',\n",
       " 'bath',\n",
       " 'bathing',\n",
       " 'bathrobe',\n",
       " 'bathtub',\n",
       " 'baton',\n",
       " 'batrashil',\n",
       " 'batsu',\n",
       " 'batt',\n",
       " 'batta',\n",
       " 'battente',\n",
       " 'battle',\n",
       " 'battledore',\n",
       " 'battling',\n",
       " 'batá',\n",
       " 'bauble',\n",
       " 'baule',\n",
       " 'bay',\n",
       " 'baya',\n",
       " 'bayonet',\n",
       " 'bayonets',\n",
       " 'baz',\n",
       " 'bazu',\n",
       " 'bağlama',\n",
       " 'bb',\n",
       " 'bbflat',\n",
       " 'beach',\n",
       " 'beachwear',\n",
       " 'bead',\n",
       " 'beaded',\n",
       " 'beads',\n",
       " 'beadwork',\n",
       " 'beak',\n",
       " 'beaked',\n",
       " 'beaker',\n",
       " 'beakers',\n",
       " 'beam',\n",
       " 'beams',\n",
       " 'bean',\n",
       " 'beans',\n",
       " 'bear',\n",
       " 'beard',\n",
       " 'bearded',\n",
       " 'beardless',\n",
       " 'beared',\n",
       " 'bearer',\n",
       " 'bearers',\n",
       " 'bearing',\n",
       " 'beater',\n",
       " 'beaters',\n",
       " 'beating',\n",
       " 'beatus',\n",
       " 'bebi',\n",
       " 'bed',\n",
       " 'bedcloth',\n",
       " 'bedcover',\n",
       " 'bedding',\n",
       " 'bedposts',\n",
       " 'bedroom',\n",
       " 'bedside',\n",
       " 'bedskirt',\n",
       " 'bedspread',\n",
       " 'bedstead',\n",
       " 'bedug',\n",
       " 'bee',\n",
       " 'beef',\n",
       " 'beekeepers',\n",
       " 'beekeeping',\n",
       " 'beer',\n",
       " 'bees',\n",
       " 'beetle',\n",
       " 'beetles',\n",
       " 'beggar',\n",
       " 'begging',\n",
       " 'beheading',\n",
       " 'bel',\n",
       " 'bell',\n",
       " 'bellarmine',\n",
       " 'bellerophon',\n",
       " 'bellophone',\n",
       " 'bellows',\n",
       " 'bellpull',\n",
       " 'bells',\n",
       " 'belly',\n",
       " 'belonging',\n",
       " 'beloved',\n",
       " 'belt',\n",
       " 'belthook',\n",
       " 'belts',\n",
       " 'bembu',\n",
       " 'bemoh',\n",
       " 'ben',\n",
       " 'benares',\n",
       " 'bench',\n",
       " 'benches',\n",
       " 'bending',\n",
       " 'bendir',\n",
       " 'bendis',\n",
       " 'bener',\n",
       " 'benermerut',\n",
       " 'benerpen',\n",
       " 'bengy',\n",
       " ...]"
      ]
     },
     "execution_count": 101,
     "metadata": {},
     "output_type": "execute_result"
    }
   ],
   "source": [
    "count_vect.get_feature_names()"
   ]
  },
  {
   "cell_type": "markdown",
   "metadata": {},
   "source": [
    "# 2. TF-IDF Vectors"
   ]
  },
  {
   "cell_type": "raw",
   "metadata": {},
   "source": [
    "TF(t) = (Number of times term t appears in a document) / (Total number of terms in the document)\n",
    "IDF(t) = log_e(Total number of documents / Number of documents with term t in it)"
   ]
  },
  {
   "cell_type": "code",
   "execution_count": 110,
   "metadata": {},
   "outputs": [],
   "source": [
    "#TF-IDF\n",
    "tfidf_vect = TfidfVectorizer(analyzer='word', token_pattern=r'\\w{1,}', max_features=5000)\n",
    "tfidf_vect.fit(X)\n",
    "xtrain_tfidf =  tfidf_vect.transform(X_train)\n",
    "xtest_tfidf =  tfidf_vect.transform(X_test)"
   ]
  },
  {
   "cell_type": "code",
   "execution_count": 112,
   "metadata": {},
   "outputs": [
    {
     "data": {
      "text/plain": [
       "array([[ 0.,  0.,  0., ...,  0.,  0.,  0.],\n",
       "       [ 0.,  0.,  0., ...,  0.,  0.,  0.],\n",
       "       [ 0.,  0.,  0., ...,  0.,  0.,  0.],\n",
       "       ..., \n",
       "       [ 0.,  0.,  0., ...,  0.,  0.,  0.],\n",
       "       [ 0.,  0.,  0., ...,  0.,  0.,  0.],\n",
       "       [ 0.,  0.,  0., ...,  0.,  0.,  0.]])"
      ]
     },
     "execution_count": 112,
     "metadata": {},
     "output_type": "execute_result"
    }
   ],
   "source": [
    "array2= xtrain_tfidf.toarray()\n",
    "array2"
   ]
  },
  {
   "cell_type": "code",
   "execution_count": 120,
   "metadata": {},
   "outputs": [
    {
     "data": {
      "text/plain": [
       "[array(['print'],\n",
       "       dtype='<U17')]"
      ]
     },
     "execution_count": 120,
     "metadata": {},
     "output_type": "execute_result"
    }
   ],
   "source": [
    "tfidf_vect.inverse_transform(array2[0])"
   ]
  },
  {
   "cell_type": "code",
   "execution_count": 122,
   "metadata": {},
   "outputs": [
    {
     "ename": "ValueError",
     "evalue": "bad input shape ()",
     "output_type": "error",
     "traceback": [
      "\u001b[0;31m---------------------------------------------------------------------------\u001b[0m",
      "\u001b[0;31mValueError\u001b[0m                                Traceback (most recent call last)",
      "\u001b[0;32m<ipython-input-122-afbd265b1939>\u001b[0m in \u001b[0;36m<module>\u001b[0;34m()\u001b[0m\n\u001b[1;32m      1\u001b[0m \u001b[0;32mfrom\u001b[0m \u001b[0msklearn\u001b[0m\u001b[0;34m.\u001b[0m\u001b[0mnaive_bayes\u001b[0m \u001b[0;32mimport\u001b[0m \u001b[0mMultinomialNB\u001b[0m\u001b[0;34m\u001b[0m\u001b[0m\n\u001b[1;32m      2\u001b[0m \u001b[0mclf\u001b[0m \u001b[0;34m=\u001b[0m \u001b[0mMultinomialNB\u001b[0m\u001b[0;34m(\u001b[0m\u001b[0;34m)\u001b[0m\u001b[0;34m\u001b[0m\u001b[0m\n\u001b[0;32m----> 3\u001b[0;31m \u001b[0mclf\u001b[0m\u001b[0;34m.\u001b[0m\u001b[0mfit\u001b[0m\u001b[0;34m(\u001b[0m\u001b[0mxtrain_tfidf\u001b[0m\u001b[0;34m,\u001b[0m\u001b[0my_train\u001b[0m\u001b[0;34m)\u001b[0m\u001b[0;34m\u001b[0m\u001b[0m\n\u001b[0m\u001b[1;32m      4\u001b[0m \u001b[0mxtest_tfidf\u001b[0m\u001b[0;34m=\u001b[0m\u001b[0mtfidf_vect\u001b[0m\u001b[0;34m.\u001b[0m\u001b[0mtransform\u001b[0m\u001b[0;34m(\u001b[0m\u001b[0mX_test\u001b[0m\u001b[0;34m)\u001b[0m\u001b[0;34m\u001b[0m\u001b[0m\n",
      "\u001b[0;32m~/anaconda3/lib/python3.6/site-packages/sklearn/naive_bayes.py\u001b[0m in \u001b[0;36mfit\u001b[0;34m(self, X, y, sample_weight)\u001b[0m\n\u001b[1;32m    577\u001b[0m             \u001b[0mReturns\u001b[0m \u001b[0mself\u001b[0m\u001b[0;34m.\u001b[0m\u001b[0;34m\u001b[0m\u001b[0m\n\u001b[1;32m    578\u001b[0m         \"\"\"\n\u001b[0;32m--> 579\u001b[0;31m         \u001b[0mX\u001b[0m\u001b[0;34m,\u001b[0m \u001b[0my\u001b[0m \u001b[0;34m=\u001b[0m \u001b[0mcheck_X_y\u001b[0m\u001b[0;34m(\u001b[0m\u001b[0mX\u001b[0m\u001b[0;34m,\u001b[0m \u001b[0my\u001b[0m\u001b[0;34m,\u001b[0m \u001b[0;34m'csr'\u001b[0m\u001b[0;34m)\u001b[0m\u001b[0;34m\u001b[0m\u001b[0m\n\u001b[0m\u001b[1;32m    580\u001b[0m         \u001b[0m_\u001b[0m\u001b[0;34m,\u001b[0m \u001b[0mn_features\u001b[0m \u001b[0;34m=\u001b[0m \u001b[0mX\u001b[0m\u001b[0;34m.\u001b[0m\u001b[0mshape\u001b[0m\u001b[0;34m\u001b[0m\u001b[0m\n\u001b[1;32m    581\u001b[0m \u001b[0;34m\u001b[0m\u001b[0m\n",
      "\u001b[0;32m~/anaconda3/lib/python3.6/site-packages/sklearn/utils/validation.py\u001b[0m in \u001b[0;36mcheck_X_y\u001b[0;34m(X, y, accept_sparse, dtype, order, copy, force_all_finite, ensure_2d, allow_nd, multi_output, ensure_min_samples, ensure_min_features, y_numeric, warn_on_dtype, estimator)\u001b[0m\n\u001b[1;32m    576\u001b[0m                         dtype=None)\n\u001b[1;32m    577\u001b[0m     \u001b[0;32melse\u001b[0m\u001b[0;34m:\u001b[0m\u001b[0;34m\u001b[0m\u001b[0m\n\u001b[0;32m--> 578\u001b[0;31m         \u001b[0my\u001b[0m \u001b[0;34m=\u001b[0m \u001b[0mcolumn_or_1d\u001b[0m\u001b[0;34m(\u001b[0m\u001b[0my\u001b[0m\u001b[0;34m,\u001b[0m \u001b[0mwarn\u001b[0m\u001b[0;34m=\u001b[0m\u001b[0;32mTrue\u001b[0m\u001b[0;34m)\u001b[0m\u001b[0;34m\u001b[0m\u001b[0m\n\u001b[0m\u001b[1;32m    579\u001b[0m         \u001b[0m_assert_all_finite\u001b[0m\u001b[0;34m(\u001b[0m\u001b[0my\u001b[0m\u001b[0;34m)\u001b[0m\u001b[0;34m\u001b[0m\u001b[0m\n\u001b[1;32m    580\u001b[0m     \u001b[0;32mif\u001b[0m \u001b[0my_numeric\u001b[0m \u001b[0;32mand\u001b[0m \u001b[0my\u001b[0m\u001b[0;34m.\u001b[0m\u001b[0mdtype\u001b[0m\u001b[0;34m.\u001b[0m\u001b[0mkind\u001b[0m \u001b[0;34m==\u001b[0m \u001b[0;34m'O'\u001b[0m\u001b[0;34m:\u001b[0m\u001b[0;34m\u001b[0m\u001b[0m\n",
      "\u001b[0;32m~/anaconda3/lib/python3.6/site-packages/sklearn/utils/validation.py\u001b[0m in \u001b[0;36mcolumn_or_1d\u001b[0;34m(y, warn)\u001b[0m\n\u001b[1;32m    612\u001b[0m         \u001b[0;32mreturn\u001b[0m \u001b[0mnp\u001b[0m\u001b[0;34m.\u001b[0m\u001b[0mravel\u001b[0m\u001b[0;34m(\u001b[0m\u001b[0my\u001b[0m\u001b[0;34m)\u001b[0m\u001b[0;34m\u001b[0m\u001b[0m\n\u001b[1;32m    613\u001b[0m \u001b[0;34m\u001b[0m\u001b[0m\n\u001b[0;32m--> 614\u001b[0;31m     \u001b[0;32mraise\u001b[0m \u001b[0mValueError\u001b[0m\u001b[0;34m(\u001b[0m\u001b[0;34m\"bad input shape {0}\"\u001b[0m\u001b[0;34m.\u001b[0m\u001b[0mformat\u001b[0m\u001b[0;34m(\u001b[0m\u001b[0mshape\u001b[0m\u001b[0;34m)\u001b[0m\u001b[0;34m)\u001b[0m\u001b[0;34m\u001b[0m\u001b[0m\n\u001b[0m\u001b[1;32m    615\u001b[0m \u001b[0;34m\u001b[0m\u001b[0m\n\u001b[1;32m    616\u001b[0m \u001b[0;34m\u001b[0m\u001b[0m\n",
      "\u001b[0;31mValueError\u001b[0m: bad input shape ()"
     ]
    }
   ],
   "source": [
    "from sklearn.naive_bayes import MultinomialNB\n",
    "clf = MultinomialNB()\n",
    "clf.fit(xtrain_tfidf,y_train)\n",
    "xtest_tfidf=tfidf_vect.transform(X_test)"
   ]
  },
  {
   "cell_type": "markdown",
   "metadata": {},
   "source": [
    "# 2.3 Word Embeddings"
   ]
  },
  {
   "cell_type": "raw",
   "metadata": {},
   "source": [
    "Loading the pretrained word embeddings\n",
    "Creating a tokenizer object\n",
    "Transforming text documents to sequence of tokens and pad them\n",
    "Create a mapping of token and their respective embeddings"
   ]
  },
  {
   "cell_type": "code",
   "execution_count": 126,
   "metadata": {},
   "outputs": [
    {
     "ename": "FileNotFoundError",
     "evalue": "[Errno 2] No such file or directory: '\\u2068/Users\\u2069/jane\\u2069/Documents\\u2069/Python\\u2069\\u2069/wiki-news-300d-1M.vec'",
     "output_type": "error",
     "traceback": [
      "\u001b[0;31m---------------------------------------------------------------------------\u001b[0m",
      "\u001b[0;31mFileNotFoundError\u001b[0m                         Traceback (most recent call last)",
      "\u001b[0;32m<ipython-input-126-cc6aa7b402db>\u001b[0m in \u001b[0;36m<module>\u001b[0;34m()\u001b[0m\n\u001b[1;32m      1\u001b[0m \u001b[0;31m# load the pre-trained word-embedding vectors\u001b[0m\u001b[0;34m\u001b[0m\u001b[0;34m\u001b[0m\u001b[0m\n\u001b[1;32m      2\u001b[0m \u001b[0membeddings_index\u001b[0m \u001b[0;34m=\u001b[0m \u001b[0;34m{\u001b[0m\u001b[0;34m}\u001b[0m\u001b[0;34m\u001b[0m\u001b[0m\n\u001b[0;32m----> 3\u001b[0;31m \u001b[0;32mfor\u001b[0m \u001b[0mi\u001b[0m\u001b[0;34m,\u001b[0m \u001b[0mline\u001b[0m \u001b[0;32min\u001b[0m \u001b[0menumerate\u001b[0m\u001b[0;34m(\u001b[0m\u001b[0mopen\u001b[0m\u001b[0;34m(\u001b[0m\u001b[0;34m'⁨/Users⁩/jane⁩/Documents⁩/Python⁩⁩/wiki-news-300d-1M.vec'\u001b[0m\u001b[0;34m)\u001b[0m\u001b[0;34m)\u001b[0m\u001b[0;34m:\u001b[0m\u001b[0;34m\u001b[0m\u001b[0m\n\u001b[0m\u001b[1;32m      4\u001b[0m     \u001b[0mvalues\u001b[0m \u001b[0;34m=\u001b[0m \u001b[0mline\u001b[0m\u001b[0;34m.\u001b[0m\u001b[0msplit\u001b[0m\u001b[0;34m(\u001b[0m\u001b[0;34m)\u001b[0m\u001b[0;34m\u001b[0m\u001b[0m\n\u001b[1;32m      5\u001b[0m     \u001b[0membeddings_index\u001b[0m\u001b[0;34m[\u001b[0m\u001b[0mvalues\u001b[0m\u001b[0;34m[\u001b[0m\u001b[0;36m0\u001b[0m\u001b[0;34m]\u001b[0m\u001b[0;34m]\u001b[0m \u001b[0;34m=\u001b[0m \u001b[0mnumpy\u001b[0m\u001b[0;34m.\u001b[0m\u001b[0masarray\u001b[0m\u001b[0;34m(\u001b[0m\u001b[0mvalues\u001b[0m\u001b[0;34m[\u001b[0m\u001b[0;36m1\u001b[0m\u001b[0;34m:\u001b[0m\u001b[0;34m]\u001b[0m\u001b[0;34m,\u001b[0m \u001b[0mdtype\u001b[0m\u001b[0;34m=\u001b[0m\u001b[0;34m'float32'\u001b[0m\u001b[0;34m)\u001b[0m\u001b[0;34m\u001b[0m\u001b[0m\n",
      "\u001b[0;31mFileNotFoundError\u001b[0m: [Errno 2] No such file or directory: '\\u2068/Users\\u2069/jane\\u2069/Documents\\u2069/Python\\u2069\\u2069/wiki-news-300d-1M.vec'"
     ]
    }
   ],
   "source": [
    "# load the pre-trained word-embedding vectors \n",
    "embeddings_index = {}\n",
    "for i, line in enumerate(open('⁨/Users⁩/jane⁩/Documents⁩/Python⁩⁩/wiki-news-300d-1M.vec')):\n",
    "    values = line.split()\n",
    "    embeddings_index[values[0]] = numpy.asarray(values[1:], dtype='float32')"
   ]
  },
  {
   "cell_type": "code",
   "execution_count": null,
   "metadata": {
    "collapsed": true
   },
   "outputs": [],
   "source": []
  }
 ],
 "metadata": {
  "kernelspec": {
   "display_name": "Python 3",
   "language": "python",
   "name": "python3"
  },
  "language_info": {
   "codemirror_mode": {
    "name": "ipython",
    "version": 3
   },
   "file_extension": ".py",
   "mimetype": "text/x-python",
   "name": "python",
   "nbconvert_exporter": "python",
   "pygments_lexer": "ipython3",
   "version": "3.6.3"
  }
 },
 "nbformat": 4,
 "nbformat_minor": 2
}
