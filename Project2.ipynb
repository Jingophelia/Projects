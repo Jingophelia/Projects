{
 "cells": [
  {
   "cell_type": "code",
   "execution_count": 13,
   "metadata": {
    "collapsed": true
   },
   "outputs": [],
   "source": [
    "import pandas as pd\n",
    "import numpy as np\n",
    "import matplotlib\n",
    "import matplotlib.pyplot as plt"
   ]
  },
  {
   "cell_type": "code",
   "execution_count": 14,
   "metadata": {
    "scrolled": true
   },
   "outputs": [
    {
     "name": "stderr",
     "output_type": "stream",
     "text": [
      "/Users/jane/anaconda3/lib/python3.6/site-packages/IPython/core/interactiveshell.py:2698: DtypeWarning: Columns (7,8,9,10,11,18,27,28,29,30,31,32,33,34,35,36,37,39) have mixed types. Specify dtype option on import or set low_memory=False.\n",
      "  interactivity=interactivity, compiler=compiler, result=result)\n"
     ]
    }
   ],
   "source": [
    "df = pd.read_csv(\"/Users/jane/Desktop/MetObjects.csv\") "
   ]
  },
  {
   "cell_type": "code",
   "execution_count": 15,
   "metadata": {},
   "outputs": [
    {
     "name": "stdout",
     "output_type": "stream",
     "text": [
      "  Object Number  Is Highlight  Is Public Domain  Object ID  \\\n",
      "0    1979.486.1         False             False          1   \n",
      "1    1980.264.5         False             False          2   \n",
      "2      67.265.9         False             False          3   \n",
      "3     67.265.10         False             False          4   \n",
      "4     67.265.11         False             False          5   \n",
      "\n",
      "                 Department Object Name                         Title Culture  \\\n",
      "0  American Decorative Arts        Coin  One-dollar Liberty Head Coin     NaN   \n",
      "1  American Decorative Arts        Coin  Ten-dollar Liberty Head Coin     NaN   \n",
      "2  American Decorative Arts        Coin    Two-and-a-Half Dollar Coin     NaN   \n",
      "3  American Decorative Arts        Coin    Two-and-a-Half Dollar Coin     NaN   \n",
      "4  American Decorative Arts        Coin    Two-and-a-Half Dollar Coin     NaN   \n",
      "\n",
      "  Period Dynasty                    ...                    Subregion Locale  \\\n",
      "0    NaN     NaN                    ...                          NaN    NaN   \n",
      "1    NaN     NaN                    ...                          NaN    NaN   \n",
      "2    NaN     NaN                    ...                          NaN    NaN   \n",
      "3    NaN     NaN                    ...                          NaN    NaN   \n",
      "4    NaN     NaN                    ...                          NaN    NaN   \n",
      "\n",
      "  Locus Excavation River Classification Rights and Reproduction  \\\n",
      "0   NaN        NaN   NaN          Metal                     NaN   \n",
      "1   NaN        NaN   NaN          Metal                     NaN   \n",
      "2   NaN        NaN   NaN          Metal                     NaN   \n",
      "3   NaN        NaN   NaN          Metal                     NaN   \n",
      "4   NaN        NaN   NaN          Metal                     NaN   \n",
      "\n",
      "                                      Link Resource         Metadata Date  \\\n",
      "0  http://www.metmuseum.org/art/collection/search/1  9/10/2018 8:00:01 AM   \n",
      "1  http://www.metmuseum.org/art/collection/search/2  9/10/2018 8:00:01 AM   \n",
      "2  http://www.metmuseum.org/art/collection/search/3  9/10/2018 8:00:01 AM   \n",
      "3  http://www.metmuseum.org/art/collection/search/4  9/10/2018 8:00:01 AM   \n",
      "4  http://www.metmuseum.org/art/collection/search/5  9/10/2018 8:00:01 AM   \n",
      "\n",
      "                                 Repository  \n",
      "0  Metropolitan Museum of Art, New York, NY  \n",
      "1  Metropolitan Museum of Art, New York, NY  \n",
      "2  Metropolitan Museum of Art, New York, NY  \n",
      "3  Metropolitan Museum of Art, New York, NY  \n",
      "4  Metropolitan Museum of Art, New York, NY  \n",
      "\n",
      "[5 rows x 43 columns]\n"
     ]
    }
   ],
   "source": [
    "print(df.head())"
   ]
  },
  {
   "cell_type": "markdown",
   "metadata": {},
   "source": [
    "file_path=\"/Users/jane/Desktop/MetObjects.csv\"\n",
    "with open(file_path) as file_object:\n",
    "    contents = file_object.read() \n",
    "    print(contents)"
   ]
  },
  {
   "cell_type": "markdown",
   "metadata": {},
   "source": [
    "a=df."
   ]
  },
  {
   "cell_type": "code",
   "execution_count": 16,
   "metadata": {
    "collapsed": true
   },
   "outputs": [],
   "source": [
    "time=np.unique(df['Object End Date'])"
   ]
  },
  {
   "cell_type": "code",
   "execution_count": 17,
   "metadata": {},
   "outputs": [
    {
     "data": {
      "text/plain": [
       "2074"
      ]
     },
     "execution_count": 17,
     "metadata": {},
     "output_type": "execute_result"
    }
   ],
   "source": [
    "len(time)"
   ]
  },
  {
   "cell_type": "code",
   "execution_count": 18,
   "metadata": {},
   "outputs": [
    {
     "data": {
      "text/plain": [
       "18591861"
      ]
     },
     "execution_count": 18,
     "metadata": {},
     "output_type": "execute_result"
    }
   ],
   "source": [
    "max(time)"
   ]
  },
  {
   "cell_type": "code",
   "execution_count": 19,
   "metadata": {},
   "outputs": [
    {
     "data": {
      "text/plain": [
       "-35000"
      ]
     },
     "execution_count": 19,
     "metadata": {},
     "output_type": "execute_result"
    }
   ],
   "source": [
    "min(time)"
   ]
  },
  {
   "cell_type": "code",
   "execution_count": 20,
   "metadata": {},
   "outputs": [
    {
     "data": {
      "text/plain": [
       "242"
      ]
     },
     "execution_count": 20,
     "metadata": {},
     "output_type": "execute_result"
    }
   ],
   "source": [
    "problem=df[df['Object End Date']>2018]\n",
    "len(problem)"
   ]
  },
  {
   "cell_type": "code",
   "execution_count": 21,
   "metadata": {},
   "outputs": [
    {
     "data": {
      "text/plain": [
       "468947"
      ]
     },
     "execution_count": 21,
     "metadata": {},
     "output_type": "execute_result"
    }
   ],
   "source": [
    "len(df)"
   ]
  },
  {
   "cell_type": "code",
   "execution_count": 22,
   "metadata": {
    "collapsed": true
   },
   "outputs": [],
   "source": [
    "problem_plt=problem.iloc[:,22:24]"
   ]
  },
  {
   "cell_type": "code",
   "execution_count": 23,
   "metadata": {},
   "outputs": [
    {
     "data": {
      "text/plain": [
       "<matplotlib.axes._subplots.AxesSubplot at 0x124b78b38>"
      ]
     },
     "execution_count": 23,
     "metadata": {},
     "output_type": "execute_result"
    }
   ],
   "source": [
    "problem_plt.plot.scatter(x='Object End Date',y='Object Begin Date')"
   ]
  },
  {
   "cell_type": "code",
   "execution_count": 24,
   "metadata": {},
   "outputs": [
    {
     "data": {
      "image/png": "[encoded data removed]",
      "text/plain": [
       "<matplotlib.figure.Figure at 0x111db4550>"
      ]
     },
     "metadata": {},
     "output_type": "display_data"
    },
    {
     "data": {
      "image/png": "[encoded data removed]",
      "text/plain": [
       "<matplotlib.figure.Figure at 0x124b787f0>"
      ]
     },
     "metadata": {},
     "output_type": "display_data"
    }
   ],
   "source": [
    "plt.show()"
   ]
  },
  {
   "cell_type": "code",
   "execution_count": 25,
   "metadata": {
    "collapsed": true
   },
   "outputs": [],
   "source": [
    "time2=np.unique(df['Object Begin Date'])"
   ]
  },
  {
   "cell_type": "code",
   "execution_count": 26,
   "metadata": {},
   "outputs": [
    {
     "data": {
      "text/plain": [
       "2102"
      ]
     },
     "execution_count": 26,
     "metadata": {},
     "output_type": "execute_result"
    }
   ],
   "source": [
    "len(time2)"
   ]
  },
  {
   "cell_type": "code",
   "execution_count": 27,
   "metadata": {},
   "outputs": [
    {
     "data": {
      "text/plain": [
       "18591861"
      ]
     },
     "execution_count": 27,
     "metadata": {},
     "output_type": "execute_result"
    }
   ],
   "source": [
    "max(time2)"
   ]
  },
  {
   "cell_type": "code",
   "execution_count": 28,
   "metadata": {},
   "outputs": [
    {
     "data": {
      "text/plain": [
       "-95000"
      ]
     },
     "execution_count": 28,
     "metadata": {},
     "output_type": "execute_result"
    }
   ],
   "source": [
    "min(time2)"
   ]
  },
  {
   "cell_type": "code",
   "execution_count": 29,
   "metadata": {},
   "outputs": [
    {
     "data": {
      "text/html": [
       "<div>\n",
       "<style>\n",
       "    .dataframe thead tr:only-child th {\n",
       "        text-align: right;\n",
       "    }\n",
       "\n",
       "    .dataframe thead th {\n",
       "        text-align: left;\n",
       "    }\n",
       "\n",
       "    .dataframe tbody tr th {\n",
       "        vertical-align: top;\n",
       "    }\n",
       "</style>\n",
       "<table border=\"1\" class=\"dataframe\">\n",
       "  <thead>\n",
       "    <tr style=\"text-align: right;\">\n",
       "      <th></th>\n",
       "      <th>Object Begin Date</th>\n",
       "      <th>Object End Date</th>\n",
       "    </tr>\n",
       "  </thead>\n",
       "  <tbody>\n",
       "    <tr>\n",
       "      <th>377063</th>\n",
       "      <td>-95000</td>\n",
       "      <td>-35000</td>\n",
       "    </tr>\n",
       "  </tbody>\n",
       "</table>\n",
       "</div>"
      ],
      "text/plain": [
       "        Object Begin Date  Object End Date\n",
       "377063             -95000           -35000"
      ]
     },
     "execution_count": 29,
     "metadata": {},
     "output_type": "execute_result"
    }
   ],
   "source": [
    "b=df[df['Object Begin Date']==-95000]\n",
    "b.iloc[:,22:24]"
   ]
  },
  {
   "cell_type": "markdown",
   "metadata": {},
   "source": [
    "# Department Mapping"
   ]
  },
  {
   "cell_type": "code",
   "execution_count": 30,
   "metadata": {
    "collapsed": true
   },
   "outputs": [],
   "source": [
    "Departments=df.iloc[:,4].value_counts()"
   ]
  },
  {
   "cell_type": "code",
   "execution_count": 31,
   "metadata": {},
   "outputs": [
    {
     "data": {
      "text/html": [
       "<div>\n",
       "<style>\n",
       "    .dataframe thead tr:only-child th {\n",
       "        text-align: right;\n",
       "    }\n",
       "\n",
       "    .dataframe thead th {\n",
       "        text-align: left;\n",
       "    }\n",
       "\n",
       "    .dataframe tbody tr th {\n",
       "        vertical-align: top;\n",
       "    }\n",
       "</style>\n",
       "<table border=\"1\" class=\"dataframe\">\n",
       "  <thead>\n",
       "    <tr style=\"text-align: right;\">\n",
       "      <th></th>\n",
       "      <th>Department</th>\n",
       "    </tr>\n",
       "  </thead>\n",
       "  <tbody>\n",
       "    <tr>\n",
       "      <th>Drawings and Prints</th>\n",
       "      <td>171026</td>\n",
       "    </tr>\n",
       "    <tr>\n",
       "      <th>European Sculpture and Decorative Arts</th>\n",
       "      <td>42954</td>\n",
       "    </tr>\n",
       "    <tr>\n",
       "      <th>Photographs</th>\n",
       "      <td>38796</td>\n",
       "    </tr>\n",
       "    <tr>\n",
       "      <th>Asian Art</th>\n",
       "      <td>37302</td>\n",
       "    </tr>\n",
       "    <tr>\n",
       "      <th>Costume Institute</th>\n",
       "      <td>31368</td>\n",
       "    </tr>\n",
       "    <tr>\n",
       "      <th>Egyptian Art</th>\n",
       "      <td>27560</td>\n",
       "    </tr>\n",
       "    <tr>\n",
       "      <th>American Decorative Arts</th>\n",
       "      <td>18372</td>\n",
       "    </tr>\n",
       "    <tr>\n",
       "      <th>Greek and Roman Art</th>\n",
       "      <td>17431</td>\n",
       "    </tr>\n",
       "    <tr>\n",
       "      <th>Islamic Art</th>\n",
       "      <td>15770</td>\n",
       "    </tr>\n",
       "    <tr>\n",
       "      <th>Modern and Contemporary Art</th>\n",
       "      <td>14519</td>\n",
       "    </tr>\n",
       "    <tr>\n",
       "      <th>Arms and Armor</th>\n",
       "      <td>13562</td>\n",
       "    </tr>\n",
       "    <tr>\n",
       "      <th>Arts of Africa, Oceania, and the Americas</th>\n",
       "      <td>12938</td>\n",
       "    </tr>\n",
       "    <tr>\n",
       "      <th>Medieval Art</th>\n",
       "      <td>7487</td>\n",
       "    </tr>\n",
       "    <tr>\n",
       "      <th>Ancient Near Eastern Art</th>\n",
       "      <td>6186</td>\n",
       "    </tr>\n",
       "    <tr>\n",
       "      <th>Musical Instruments</th>\n",
       "      <td>5316</td>\n",
       "    </tr>\n",
       "    <tr>\n",
       "      <th>European Paintings</th>\n",
       "      <td>2933</td>\n",
       "    </tr>\n",
       "    <tr>\n",
       "      <th>The Cloisters</th>\n",
       "      <td>2628</td>\n",
       "    </tr>\n",
       "    <tr>\n",
       "      <th>Robert Lehman Collection</th>\n",
       "      <td>2586</td>\n",
       "    </tr>\n",
       "    <tr>\n",
       "      <th>The Libraries</th>\n",
       "      <td>213</td>\n",
       "    </tr>\n",
       "  </tbody>\n",
       "</table>\n",
       "</div>"
      ],
      "text/plain": [
       "                                           Department\n",
       "Drawings and Prints                            171026\n",
       "European Sculpture and Decorative Arts          42954\n",
       "Photographs                                     38796\n",
       "Asian Art                                       37302\n",
       "Costume Institute                               31368\n",
       "Egyptian Art                                    27560\n",
       "American Decorative Arts                        18372\n",
       "Greek and Roman Art                             17431\n",
       "Islamic Art                                     15770\n",
       "Modern and Contemporary Art                     14519\n",
       "Arms and Armor                                  13562\n",
       "Arts of Africa, Oceania, and the Americas       12938\n",
       "Medieval Art                                     7487\n",
       "Ancient Near Eastern Art                         6186\n",
       "Musical Instruments                              5316\n",
       "European Paintings                               2933\n",
       "The Cloisters                                    2628\n",
       "Robert Lehman Collection                         2586\n",
       "The Libraries                                     213"
      ]
     },
     "execution_count": 31,
     "metadata": {},
     "output_type": "execute_result"
    }
   ],
   "source": [
    "Departments=pd.DataFrame(Departments)\n",
    "Departments"
   ]
  },
  {
   "cell_type": "code",
   "execution_count": 32,
   "metadata": {
    "collapsed": true
   },
   "outputs": [],
   "source": [
    "import squarify"
   ]
  },
  {
   "cell_type": "code",
   "execution_count": 144,
   "metadata": {
    "collapsed": true
   },
   "outputs": [],
   "source": [
    "#Adjust size\n",
    "SMALL_SIZE = 15\n",
    "MEDIUM_SIZE = 18\n",
    "BIGGER_SIZE = 53\n",
    "\n",
    "plt.rc('font', size=SMALL_SIZE)          # controls default text sizes\n",
    "plt.rc('axes', titlesize=BIGGER_SIZE)     # fontsize of the axes title\n",
    "plt.rc('axes', labelsize=BIGGER_SIZE)     # fontsize of the x and y labels\n",
    "plt.rc('xtick', labelsize=MEDIUM_SIZE)    # fontsize of the tick labels 此处无用\n",
    "plt.rc('ytick', labelsize=MEDIUM_SIZE)    # fontsize of the tick labels\n",
    "plt.rc('legend', fontsize=SMALL_SIZE)    # legend fontsize\n",
    "plt.rc('figure', titlesize=BIGGER_SIZE)   # fontsize of the figure title"
   ]
  },
  {
   "cell_type": "raw",
   "metadata": {},
   "source": [
    "# Larger Plot\n",
    "fig = plt.gcf()\n",
    "ax = fig.add_subplot()\n",
    "fig.set_size_inches(16, 4.5)"
   ]
  },
  {
   "cell_type": "code",
   "execution_count": 34,
   "metadata": {
    "collapsed": true
   },
   "outputs": [],
   "source": [
    "# Another way of Large Plot\n",
    "plt.rcParams['figure.figsize'] = (40.0, 25.0)"
   ]
  },
  {
   "cell_type": "code",
   "execution_count": 35,
   "metadata": {
    "collapsed": true
   },
   "outputs": [],
   "source": [
    "#Utilise matplotlib to scale our goal numbers between the min and max, then assign this scale to our values.\n",
    "matplotlib.colors.Normalize(vmin=min(Departments), vmax=max(Departments))\n",
    "colors = [plt.cm.Blues(Departments) for value in Departments.index]"
   ]
  },
  {
   "cell_type": "code",
   "execution_count": 166,
   "metadata": {},
   "outputs": [
    {
     "data": {
      "image/png": "[encoded data removed]",
      "text/plain": [
       "<matplotlib.figure.Figure at 0x117b7e9e8>"
      ]
     },
     "metadata": {},
     "output_type": "display_data"
    }
   ],
   "source": [
    "#Treemap\n",
    "squarify.plot(sizes=Departments['Department'], label=Departments.index, alpha=.6)\n",
    "plt.title(\"Department Size\")\n",
    "plt.axis('off')\n",
    "plt.show()\n"
   ]
  },
  {
   "cell_type": "markdown",
   "metadata": {},
   "source": [
    "# Geographic Mapping"
   ]
  },
  {
   "cell_type": "markdown",
   "metadata": {},
   "source": [
    "I want to examine the distribution of objects by country. Based on the observation from column names, I can analyze Culture or Country column. Since there are too many missing values, I need to decide which one to pick. \n"
   ]
  },
  {
   "cell_type": "code",
   "execution_count": 167,
   "metadata": {},
   "outputs": [
    {
     "data": {
      "text/plain": [
       "(468947, 43)"
      ]
     },
     "execution_count": 167,
     "metadata": {},
     "output_type": "execute_result"
    }
   ],
   "source": [
    "df.shape"
   ]
  },
  {
   "cell_type": "code",
   "execution_count": 168,
   "metadata": {},
   "outputs": [
    {
     "data": {
      "text/plain": [
       "(192115,)"
      ]
     },
     "execution_count": 168,
     "metadata": {},
     "output_type": "execute_result"
    }
   ],
   "source": [
    "#np.count_nonzero(~np.isnan(df.Culture))\n",
    "culture=df.Culture.dropna()\n",
    "culture.shape"
   ]
  },
  {
   "cell_type": "code",
   "execution_count": 169,
   "metadata": {
    "scrolled": false
   },
   "outputs": [
    {
     "data": {
      "text/plain": [
       "(76108,)"
      ]
     },
     "execution_count": 169,
     "metadata": {},
     "output_type": "execute_result"
    }
   ],
   "source": [
    "country=df.Country.dropna()\n",
    "country.shape"
   ]
  },
  {
   "cell_type": "code",
   "execution_count": 170,
   "metadata": {},
   "outputs": [
    {
     "data": {
      "text/plain": [
       "American         30750\n",
       "French           18794\n",
       "Japan            16604\n",
       "China            14178\n",
       "Italian           7109\n",
       "British           6086\n",
       "Japanese          6011\n",
       "German            4972\n",
       "Roman             4918\n",
       "British,          4585\n",
       "French,           4219\n",
       "Italian,          3856\n",
       "Greek,            3514\n",
       "European          3390\n",
       "Cypriot           2923\n",
       "German,           2782\n",
       "probably          2357\n",
       "Spanish           1753\n",
       "Coptic            1671\n",
       "possibly          1615\n",
       "Greek             1549\n",
       "India             1433\n",
       "Indonesia         1276\n",
       "Chinese,          1205\n",
       "Chinese           1099\n",
       "Iran              1088\n",
       "Sasanian          1014\n",
       "Etruscan           984\n",
       "Dutch              982\n",
       "Mexican            887\n",
       "                 ...  \n",
       "Campidonae:          1\n",
       "Guangala             1\n",
       "Irish?               1\n",
       "Izi                  1\n",
       "Nkutshu              1\n",
       "Mohawk               1\n",
       "Lunda?               1\n",
       "Telefolmin           1\n",
       "southern             1\n",
       "Sanio                1\n",
       "Awar                 1\n",
       "Gothic               1\n",
       "Kiribati,            1\n",
       "Chile                1\n",
       "\"Peking\"             1\n",
       "Calima,              1\n",
       "Croatia              1\n",
       "Dogon?               1\n",
       "Kickapoo             1\n",
       "Lele                 1\n",
       "Kosovar              1\n",
       "Apo                  1\n",
       "Madura               1\n",
       "Rwanda               1\n",
       "Siberian             1\n",
       "Tenerife             1\n",
       "Chinese?             1\n",
       "Zigula               1\n",
       "Austro-German        1\n",
       "Yankton              1\n",
       "Name: Culture, Length: 1670, dtype: int64"
      ]
     },
     "execution_count": 170,
     "metadata": {},
     "output_type": "execute_result"
    }
   ],
   "source": [
    "#Roughly checking the dataset, it seems that the culture name starts from the first word.\n",
    "#Extract first word in culture column.\n",
    "c_1=culture.str.split()\n",
    "c_1=c_1.str.get(0)\n",
    "c_1.value_counts()\n",
    "#There is no culture name probably or possibly. I need to check the characteristics of these columns further."
   ]
  },
  {
   "cell_type": "code",
   "execution_count": 171,
   "metadata": {},
   "outputs": [
    {
     "data": {
      "text/plain": [
       "399      Dutch, probably\n",
       "519    British, probably\n",
       "575    British, probably\n",
       "Name: Culture, dtype: object"
      ]
     },
     "execution_count": 171,
     "metadata": {},
     "output_type": "execute_result"
    }
   ],
   "source": [
    "# I only printed first 10 rows because space is limited, but the position of probably changes case by case. \n",
    "# For simplicity, I deleted the word probably&possibly\n",
    "culture[culture.str.contains('probably')].head(3)"
   ]
  },
  {
   "cell_type": "code",
   "execution_count": 172,
   "metadata": {},
   "outputs": [
    {
     "data": {
      "text/plain": [
       "666       British, possibly\n",
       "804        French, possibly\n",
       "1570    Bermudian, possibly\n",
       "1571    Bermudian, possibly\n",
       "1775      British, possibly\n",
       "Name: Culture, dtype: object"
      ]
     },
     "execution_count": 172,
     "metadata": {},
     "output_type": "execute_result"
    }
   ],
   "source": [
    "culture[culture.str.contains('possibly')].head(5)"
   ]
  },
  {
   "cell_type": "code",
   "execution_count": 173,
   "metadata": {},
   "outputs": [],
   "source": [
    "culture=culture.str.replace('probably?', '')\n",
    "culture=culture.str.replace('possibly?', '')"
   ]
  },
  {
   "cell_type": "code",
   "execution_count": 174,
   "metadata": {
    "scrolled": true
   },
   "outputs": [
    {
     "data": {
      "text/plain": [
       "14                Mexican\n",
       "15                Mexican\n",
       "16                Mexican\n",
       "17                Mexican\n",
       "18                Mexican\n",
       "19                Mexican\n",
       "20                Mexican\n",
       "21             Guatemalan\n",
       "22             Guatemalan\n",
       "23                Mexican\n",
       "24                Mexican\n",
       "25                Mexican\n",
       "26                Mexican\n",
       "27                Mexican\n",
       "28                Mexican\n",
       "29                Mexican\n",
       "30                Mexican\n",
       "31                Mexican\n",
       "32               American\n",
       "33               American\n",
       "34               American\n",
       "35               American\n",
       "36                British\n",
       "37                British\n",
       "38               American\n",
       "39               American\n",
       "40               American\n",
       "41               American\n",
       "42               American\n",
       "59               American\n",
       "               ...       \n",
       "465710           American\n",
       "465792            Indian,\n",
       "465793            Indian,\n",
       "465794       Anglo-Indian\n",
       "466095    Greco-Egyptian,\n",
       "466121             French\n",
       "466122             French\n",
       "466336           American\n",
       "466460            British\n",
       "466500            Belgian\n",
       "466559           American\n",
       "466715             India,\n",
       "466716             India,\n",
       "466717             India,\n",
       "466777            Italian\n",
       "466811            Italian\n",
       "466814            Italian\n",
       "466903            Italian\n",
       "466984           British,\n",
       "466985           British,\n",
       "466986           British,\n",
       "466987           British,\n",
       "467097           British,\n",
       "467153           British,\n",
       "468456              Roman\n",
       "468495           British,\n",
       "468503            German,\n",
       "468783              Roman\n",
       "468909           British,\n",
       "468911           British,\n",
       "Name: Culture, Length: 192115, dtype: object"
      ]
     },
     "execution_count": 174,
     "metadata": {},
     "output_type": "execute_result"
    }
   ],
   "source": [
    "#Extract first word in culture column\n",
    "c_1=culture.str.split()\n",
    "c_1=c_1.str.get(0)\n",
    "c_1"
   ]
  },
  {
   "cell_type": "code",
   "execution_count": 175,
   "metadata": {},
   "outputs": [
    {
     "data": {
      "text/plain": [
       "American            31519\n",
       "French              24109\n",
       "Japan               16606\n",
       "China               14203\n",
       "Italian             11325\n",
       "British             11065\n",
       "German               8131\n",
       "Japanese             6117\n",
       "Roman                5498\n",
       "Greek                5076\n",
       "European             3715\n",
       "Cypriot              2923\n",
       "Chinese              2324\n",
       "Spanish              2248\n",
       "Coptic               1671\n",
       "India                1470\n",
       "Dutch                1439\n",
       "Indonesia            1283\n",
       "Indian               1154\n",
       "Russian              1090\n",
       "Iran                 1090\n",
       "Etruscan             1039\n",
       "Sasanian             1014\n",
       "Austrian              965\n",
       "Flemish               950\n",
       "Mexican               898\n",
       "Frankish              798\n",
       "Minoan                776\n",
       "Moche                 728\n",
       "Asmat                 651\n",
       "                    ...  \n",
       "Parisian                1\n",
       "Portugal?               1\n",
       "So                      1\n",
       "Bosian                  1\n",
       "Campidonae:             1\n",
       "Austro-German           1\n",
       "Zigula                  1\n",
       "Chinese?                1\n",
       "Yaqui                   1\n",
       "Cheyenne/Arapaho        1\n",
       "Telefolmin              1\n",
       "Sanio                   1\n",
       "Mobangi                 1\n",
       "Himalayan               1\n",
       "Texcoco                 1\n",
       "Gothic                  1\n",
       "Chile                   1\n",
       "\"Peking\"                1\n",
       "Croatia                 1\n",
       "Tenerife                1\n",
       "Lunda?                  1\n",
       "Goan                    1\n",
       "Dogon?                  1\n",
       "Nissan                  1\n",
       "Kosovar                 1\n",
       "Oceanian                1\n",
       "Laguna                  1\n",
       "Madura                  1\n",
       "Rwanda                  1\n",
       "Olmec-style             1\n",
       "Name: Culture, Length: 1561, dtype: int64"
      ]
     },
     "execution_count": 175,
     "metadata": {},
     "output_type": "execute_result"
    }
   ],
   "source": [
    "# Count unique values in culture\n",
    "c_1=c_1.str.replace(',', '')\n",
    "c_1=c_1.str.replace(',', '')\n",
    "c_1=c_1.value_counts()\n",
    "c_1"
   ]
  },
  {
   "cell_type": "code",
   "execution_count": null,
   "metadata": {
    "collapsed": true
   },
   "outputs": [],
   "source": []
  },
  {
   "cell_type": "code",
   "execution_count": null,
   "metadata": {
    "collapsed": true
   },
   "outputs": [],
   "source": []
  },
  {
   "cell_type": "code",
   "execution_count": null,
   "metadata": {
    "collapsed": true
   },
   "outputs": [],
   "source": []
  }
 ],
 "metadata": {
  "kernelspec": {
   "display_name": "Python 3",
   "language": "python",
   "name": "python3"
  },
  "language_info": {
   "codemirror_mode": {
    "name": "ipython",
    "version": 3
   },
   "file_extension": ".py",
   "mimetype": "text/x-python",
   "name": "python",
   "nbconvert_exporter": "python",
   "pygments_lexer": "ipython3",
   "version": "3.6.3"
  }
 },
 "nbformat": 4,
 "nbformat_minor": 2
}
