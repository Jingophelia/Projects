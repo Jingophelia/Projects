{
 "cells": [
  {
   "cell_type": "markdown",
   "metadata": {},
   "source": [
    "# What is the True Normal Human Body Temperature? \n",
    "\n",
    "#### Background\n",
    "\n",
    "The mean normal body temperature was held to be 37$^{\\circ}$C or 98.6$^{\\circ}$F for more than 120 years since it was first conceptualized and reported by Carl Wunderlich in a famous 1868 book. But, is this value statistically correct?"
   ]
  },
  {
   "cell_type": "markdown",
   "metadata": {},
   "source": [
    "<h3>Exercises</h3>\n",
    "\n",
    "<p>In this exercise, you will analyze a dataset of human body temperatures and employ the concepts of hypothesis testing, confidence intervals, and statistical significance.</p>\n",
    "\n",
    "<p>Answer the following questions <b>in this notebook below and submit to your Github account</b>.</p> \n",
    "\n",
    "<ol>\n",
    "<li>  Is the distribution of body temperatures normal? \n",
    "    <ul>\n",
    "    <li> Although this is not a requirement for the Central Limit Theorem to hold (read the introduction on Wikipedia's page about the CLT carefully: https://en.wikipedia.org/wiki/Central_limit_theorem), it gives us some peace of mind that the population may also be normally distributed if we assume that this sample is representative of the population.\n",
    "    <li> Think about the way you're going to check for the normality of the distribution. Graphical methods are usually used first, but there are also other ways: https://en.wikipedia.org/wiki/Normality_test\n",
    "    </ul>\n",
    "<li>  Is the sample size large? Are the observations independent?\n",
    "    <ul>\n",
    "    <li> Remember that this is a condition for the Central Limit Theorem, and hence the statistical tests we are using, to apply.\n",
    "    </ul>\n",
    "<li>  Is the true population mean really 98.6 degrees F?\n",
    "    <ul>\n",
    "    <li> First, try a bootstrap hypothesis test.\n",
    "    <li> Now, let's try frequentist statistical testing. Would you use a one-sample or two-sample test? Why?\n",
    "    <li> In this situation, is it appropriate to use the $t$ or $z$ statistic? \n",
    "    <li> Now try using the other test. How is the result be different? Why?\n",
    "    </ul>\n",
    "<li>  Draw a small sample of size 10 from the data and repeat both frequentist tests. \n",
    "    <ul>\n",
    "    <li> Which one is the correct one to use? \n",
    "    <li> What do you notice? What does this tell you about the difference in application of the $t$ and $z$ statistic?\n",
    "    </ul>\n",
    "<li>  At what temperature should we consider someone's temperature to be \"abnormal\"?\n",
    "    <ul>\n",
    "    <li> As in the previous example, try calculating everything using the boostrap approach, as well as the frequentist approach.\n",
    "    <li> Start by computing the margin of error and confidence interval. When calculating the confidence interval, keep in mind that you should use the appropriate formula for one draw, and not N draws.\n",
    "    </ul>\n",
    "<li>  Is there a significant difference between males and females in normal temperature?\n",
    "    <ul>\n",
    "    <li> What testing approach did you use and why?\n",
    "    <li> Write a story with your conclusion in the context of the original problem.\n",
    "    </ul>\n",
    "</ol>\n",
    "\n",
    "You can include written notes in notebook cells using Markdown: \n",
    "   - In the control panel at the top, choose Cell > Cell Type > Markdown\n",
    "   - Markdown syntax: http://nestacms.com/docs/creating-content/markdown-cheat-sheet\n",
    "\n",
    "#### Resources\n",
    "\n",
    "+ Information and data sources: http://www.amstat.org/publications/jse/datasets/normtemp.txt, http://www.amstat.org/publications/jse/jse_data_archive.htm\n",
    "+ Markdown syntax: http://nestacms.com/docs/creating-content/markdown-cheat-sheet\n",
    "\n",
    "****"
   ]
  },
  {
   "cell_type": "code",
   "execution_count": 83,
   "metadata": {},
   "outputs": [
    {
     "data": {
      "text/plain": [
       "(0.9865770936012268, 0.233174666762352)"
      ]
     },
     "execution_count": 83,
     "metadata": {},
     "output_type": "execute_result"
    }
   ],
   "source": [
    "import pandas as pd\n",
    "from scipy import stats\n",
    "import numpy as np\n",
    "import seaborn as sns\n",
    "import matplotlib.pyplot as plt\n",
    "df = pd.read_csv('data/human_body_temperature.csv')\n",
    "#https://plot.ly/python/normality-test/   正态分布检验\n",
    "stats.shapiro(df.temperature)\n",
    "# the null hypothesis is normal distribution, here we can't reasonably reject the null hyphthesis as the p-value=0.233."
   ]
  },
  {
   "cell_type": "code",
   "execution_count": null,
   "metadata": {
    "collapsed": true
   },
   "outputs": [],
   "source": [
    "#data is big enough since we have 130 observations which is enough to use z-stat.\n",
    "#also, our sample should be independent because the temperature in human body has no relationship between each other."
   ]
  },
  {
   "cell_type": "code",
   "execution_count": 95,
   "metadata": {},
   "outputs": [
    {
     "name": "stdout",
     "output_type": "stream",
     "text": [
      "p =  0.5064\n",
      "0.0\n",
      "0.631035125585\n",
      "Ttest_1sampResult(statistic=-1.2600516570434861, pvalue=0.23934144645602481)\n",
      "0.674472874815\n",
      "confidence level =  ( 99.6807057117 , 96.8177558267 )\n",
      "1.43147494248\n",
      "98.1046153846154 0.6933598841828696\n",
      "98.39384615384613 0.7377464486428966\n"
     ]
    },
    {
     "data": {
      "image/png": "[encoded data removed]",
      "text/plain": [
       "<matplotlib.figure.Figure at 0x1a08d45518>"
      ]
     },
     "metadata": {},
     "output_type": "display_data"
    }
   ],
   "source": [
    "def bootstrap_replicate_1d(data , func):\n",
    "     \"\"\"Generate bootstrap replicate of 1D data.\"\"\"\n",
    "     bs_sample = np.random.choice(data, len(data))\n",
    "     return func(bs_sample)\n",
    "def draw_bs_reps(data, func, size=1):\n",
    "    \"\"\"Draw bootstrap replicates.\"\"\"\n",
    "\n",
    "    # Initialize array of replicates: bs_replicates\n",
    "    bs_replicates = np.empty(size)\n",
    "\n",
    "    # Generate replicates\n",
    "    for i in range(size):\n",
    "        bs_replicates[i] = bootstrap_replicate_1d(data, func)\n",
    "\n",
    "    return bs_replicates\n",
    "bs_replicates = draw_bs_reps(df.temperature,np.mean,10000)\n",
    "mean_tem = np.mean(df.temperature)\n",
    "p = np.sum(bs_replicates <= mean_tem) / 10000\n",
    "print('p = ', p)\n",
    "#----------------\n",
    "#Now, let's try frequentist statistical testing. Would you use a one-sample or two-sample test? Why?\n",
    "tem_shifted = df.temperature-np.mean(df.temperature)+98.6\n",
    "def diff(data,a=98.6):\n",
    "    return np.mean(data)-a\n",
    "difference=diff(df.temperature)\n",
    "tem_replicates = draw_bs_reps(tem_shifted,diff,10000)\n",
    "p_value=np.sum(tem_replicates<=difference)/10000\n",
    "print(p_value)\n",
    "#--------------\n",
    "#In this situation, is it appropriate to use the t or z statistic?\n",
    "# z, large sample\n",
    "z_score=(98.6 - mean_tem)/np.std(df.temperature)\n",
    "p_value_1 = scipy.stats.norm.sf(abs(z_score))*2 \n",
    "print(p_value_1)\n",
    "#---------------------\n",
    "#Draw a small sample of size 10 from the data and repeat both frequentist tests.\n",
    "sample=np.random.choice(df.temperature,10)\n",
    "t_test = scipy.stats.ttest_1samp(sample, 98.6)\n",
    "print(t_test)\n",
    "#can't reject null\n",
    "# one sample z test\n",
    "z_score2=(98.6 - np.mean(sample))/np.std(sample)\n",
    "p_value_2 = scipy.stats.norm.sf(abs(z_score2))*2 \n",
    "print(p_value_2)\n",
    "#can't reject\n",
    "#------------------- LOOK AT HERE,QUESTION!!!!!!!!!!!!!!!!!!!!!!!!!!!!!!!!!!!!!!!!!!!!!!!! Why error?\n",
    "\n",
    "def bootstrap_replicate_1d(data_tem, func):\n",
    "    return func(np.random.choice(data_tem, size=len(data_tem)))\n",
    "def draw_bs_reps(data_tem, func, size=1):\n",
    "    \"\"\"Draw bootstrap replicates.\"\"\"\n",
    "\n",
    "    # Initialize array of replicates: bs_replicates\n",
    "    bs_replicates = np.empty(size)\n",
    "\n",
    "    # Generate replicates\n",
    "    for i in range(size):\n",
    "        bs_replicates[i] = bootstrap_replicate_1d(data_tem,func)\n",
    "\n",
    "    return bs_replicates\n",
    "bs_replicates = draw_bs_reps(df.temperature,mean_tem,size=10000)\n",
    "\n",
    "# Compute the 95% confidence interval: conf_int\n",
    "conf_int = np.percentile(bs_replicates,[2.5,97.5])\n",
    "\n",
    "# Print the confidence interval\n",
    "print('95% confidence interval =', conf_int, 'temperature')\n",
    "#-----------------------\n",
    "#At what temperature should we consider someone's temperature to be \"abnormal\"?\n",
    "mean, sigma = np.mean(df.temperature), np.std(df.temperature)\n",
    "high, low = stats.norm.interval(0.95, loc=mean, scale=sigma)\n",
    "print('confidence level = ','(', low ,',', high ,')')\n",
    "margin_error=low-mean_tem\n",
    "print(margin_error)\n",
    "#-------------------------\n",
    "#Is there a significant difference between males and females in normal temperature?\n",
    "#distract female&male temperature\n",
    "male_tem=df.temperature[df.gender=='M']\n",
    "female_tem=df.temperature[df.gender == \"F\"]\n",
    "print(np.mean(male_tem),np.std(male_tem))\n",
    "print(np.mean(female_tem),np.std(female_tem))\n",
    "# male&female temperatures have different mean&sigma, here I planed to use two samples z test\n",
    "# But I didn't find many references online, so I use t-test, whitch is more conservative than z test.\n",
    "stats.ttest_ind(male_tem,female_tem,equal_var = False)\n",
    "# here we reject the null hypothesis, meaning there a significant difference between males&females in normal temperatur\n",
    "sns.distplot(male_tem,label ='male')\n",
    "sns.distplot(female_tem,label='female')\n",
    "plt.legend()\n",
    "plt.show()"
   ]
  },
  {
   "cell_type": "code",
   "execution_count": null,
   "metadata": {
    "collapsed": true
   },
   "outputs": [],
   "source": [
    "def bootstrap_replicate_1d(data_tem, func):\n",
    "    return func(np.random.choice(data_tem, size=len(data_tem)))\n",
    "def draw_bs_reps(data_tem, func, size=1):\n",
    "    \"\"\"Draw bootstrap replicates.\"\"\"\n",
    "\n",
    "    # Initialize array of replicates: bs_replicates\n",
    "    bs_replicates = np.empty(size)\n",
    "\n",
    "    # Generate replicates\n",
    "    for i in range(size):\n",
    "        bs_replicates[i] = bootstrap_replicate_1d(data_tem,func)\n",
    "\n",
    "    return bs_replicates\n",
    "bs_replicates = draw_bs_reps(df.temperature,mean_tem,size=10000)\n",
    "\n",
    "# Compute the 95% confidence interval: conf_int\n",
    "conf_int = np.percentile(bs_replicates,[2.5,97.5])\n",
    "\n",
    "# Print the confidence interval\n",
    "print('95% confidence interval =', conf_int, 'temperature')"
   ]
  }
 ],
 "metadata": {
  "kernelspec": {
   "display_name": "Python 3",
   "language": "python",
   "name": "python3"
  },
  "language_info": {
   "codemirror_mode": {
    "name": "ipython",
    "version": 3
   },
   "file_extension": ".py",
   "mimetype": "text/x-python",
   "name": "python",
   "nbconvert_exporter": "python",
   "pygments_lexer": "ipython3",
   "version": "3.6.3"
  }
 },
 "nbformat": 4,
 "nbformat_minor": 1
}
