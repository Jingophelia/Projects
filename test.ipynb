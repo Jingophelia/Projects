{
 "cells": [
  {
   "cell_type": "code",
   "execution_count": 1,
   "metadata": {},
   "outputs": [
    {
     "name": "stderr",
     "output_type": "stream",
     "text": [
      "/Users/jane/anaconda3/lib/python3.6/site-packages/IPython/core/interactiveshell.py:2698: DtypeWarning: Columns (7,8,9,10,11,18,27,28,29,30,31,32,33,34,35,36,37,39) have mixed types. Specify dtype option on import or set low_memory=False.\n",
      "  interactivity=interactivity, compiler=compiler, result=result)\n"
     ]
    },
    {
     "name": "stdout",
     "output_type": "stream",
     "text": [
      "  Object Number  Is Highlight  Is Public Domain  Object ID  \\\n",
      "0    1979.486.1         False             False          1   \n",
      "1    1980.264.5         False             False          2   \n",
      "2      67.265.9         False             False          3   \n",
      "3     67.265.10         False             False          4   \n",
      "4     67.265.11         False             False          5   \n",
      "\n",
      "                 Department Object Name                         Title Culture  \\\n",
      "0  American Decorative Arts        Coin  One-dollar Liberty Head Coin     NaN   \n",
      "1  American Decorative Arts        Coin  Ten-dollar Liberty Head Coin     NaN   \n",
      "2  American Decorative Arts        Coin    Two-and-a-Half Dollar Coin     NaN   \n",
      "3  American Decorative Arts        Coin    Two-and-a-Half Dollar Coin     NaN   \n",
      "4  American Decorative Arts        Coin    Two-and-a-Half Dollar Coin     NaN   \n",
      "\n",
      "  Period Dynasty                    ...                    Subregion Locale  \\\n",
      "0    NaN     NaN                    ...                          NaN    NaN   \n",
      "1    NaN     NaN                    ...                          NaN    NaN   \n",
      "2    NaN     NaN                    ...                          NaN    NaN   \n",
      "3    NaN     NaN                    ...                          NaN    NaN   \n",
      "4    NaN     NaN                    ...                          NaN    NaN   \n",
      "\n",
      "  Locus Excavation River Classification Rights and Reproduction  \\\n",
      "0   NaN        NaN   NaN          Metal                     NaN   \n",
      "1   NaN        NaN   NaN          Metal                     NaN   \n",
      "2   NaN        NaN   NaN          Metal                     NaN   \n",
      "3   NaN        NaN   NaN          Metal                     NaN   \n",
      "4   NaN        NaN   NaN          Metal                     NaN   \n",
      "\n",
      "                                      Link Resource Metadata Date  \\\n",
      "0  http://www.metmuseum.org/art/collection/search/1  9/10/18 8:00   \n",
      "1  http://www.metmuseum.org/art/collection/search/2  9/10/18 8:00   \n",
      "2  http://www.metmuseum.org/art/collection/search/3  9/10/18 8:00   \n",
      "3  http://www.metmuseum.org/art/collection/search/4  9/10/18 8:00   \n",
      "4  http://www.metmuseum.org/art/collection/search/5  9/10/18 8:00   \n",
      "\n",
      "                                 Repository  \n",
      "0  Metropolitan Museum of Art, New York, NY  \n",
      "1  Metropolitan Museum of Art, New York, NY  \n",
      "2  Metropolitan Museum of Art, New York, NY  \n",
      "3  Metropolitan Museum of Art, New York, NY  \n",
      "4  Metropolitan Museum of Art, New York, NY  \n",
      "\n",
      "[5 rows x 43 columns]\n"
     ]
    }
   ],
   "source": [
    "import pandas as pd\n",
    "import numpy as np\n",
    "import matplotlib\n",
    "import matplotlib.pyplot as plt\n",
    "import copy as cp\n",
    "df = pd.read_csv(\"/Users/jane/Desktop/MetObjects.csv\") \n",
    "print(df.head())"
   ]
  },
  {
   "cell_type": "code",
   "execution_count": 2,
   "metadata": {
    "scrolled": true
   },
   "outputs": [
    {
     "data": {
      "text/html": [
       "<div>\n",
       "<style>\n",
       "    .dataframe thead tr:only-child th {\n",
       "        text-align: right;\n",
       "    }\n",
       "\n",
       "    .dataframe thead th {\n",
       "        text-align: left;\n",
       "    }\n",
       "\n",
       "    .dataframe tbody tr th {\n",
       "        vertical-align: top;\n",
       "    }\n",
       "</style>\n",
       "<table border=\"1\" class=\"dataframe\">\n",
       "  <thead>\n",
       "    <tr style=\"text-align: right;\">\n",
       "      <th></th>\n",
       "      <th>Classification</th>\n",
       "      <th>Department</th>\n",
       "      <th>Object Name</th>\n",
       "      <th>Object Begin Date</th>\n",
       "      <th>Medium</th>\n",
       "    </tr>\n",
       "  </thead>\n",
       "  <tbody>\n",
       "    <tr>\n",
       "      <th>0</th>\n",
       "      <td>Metal</td>\n",
       "      <td>American Decorative Arts</td>\n",
       "      <td>Coin</td>\n",
       "      <td>1853</td>\n",
       "      <td>Gold</td>\n",
       "    </tr>\n",
       "    <tr>\n",
       "      <th>1</th>\n",
       "      <td>Metal</td>\n",
       "      <td>American Decorative Arts</td>\n",
       "      <td>Coin</td>\n",
       "      <td>1901</td>\n",
       "      <td>Gold</td>\n",
       "    </tr>\n",
       "    <tr>\n",
       "      <th>2</th>\n",
       "      <td>Metal</td>\n",
       "      <td>American Decorative Arts</td>\n",
       "      <td>Coin</td>\n",
       "      <td>1909</td>\n",
       "      <td>Gold</td>\n",
       "    </tr>\n",
       "    <tr>\n",
       "      <th>3</th>\n",
       "      <td>Metal</td>\n",
       "      <td>American Decorative Arts</td>\n",
       "      <td>Coin</td>\n",
       "      <td>1909</td>\n",
       "      <td>Gold</td>\n",
       "    </tr>\n",
       "    <tr>\n",
       "      <th>4</th>\n",
       "      <td>Metal</td>\n",
       "      <td>American Decorative Arts</td>\n",
       "      <td>Coin</td>\n",
       "      <td>1909</td>\n",
       "      <td>Gold</td>\n",
       "    </tr>\n",
       "  </tbody>\n",
       "</table>\n",
       "</div>"
      ],
      "text/plain": [
       "  Classification                Department Object Name  Object Begin Date  \\\n",
       "0          Metal  American Decorative Arts        Coin               1853   \n",
       "1          Metal  American Decorative Arts        Coin               1901   \n",
       "2          Metal  American Decorative Arts        Coin               1909   \n",
       "3          Metal  American Decorative Arts        Coin               1909   \n",
       "4          Metal  American Decorative Arts        Coin               1909   \n",
       "\n",
       "  Medium  \n",
       "0   Gold  \n",
       "1   Gold  \n",
       "2   Gold  \n",
       "3   Gold  \n",
       "4   Gold  "
      ]
     },
     "execution_count": 2,
     "metadata": {},
     "output_type": "execute_result"
    }
   ],
   "source": [
    "Feature=df[['Classification','Department','Object Name','Object Begin Date','Medium']]\n",
    "Feature = Feature.dropna()\n",
    "Feature.head()"
   ]
  },
  {
   "cell_type": "markdown",
   "metadata": {},
   "source": [
    "# One Hot Encoding"
   ]
  },
  {
   "cell_type": "code",
   "execution_count": 5,
   "metadata": {},
   "outputs": [
    {
     "name": "stdout",
     "output_type": "stream",
     "text": [
      "Encoding Classification\n"
     ]
    },
    {
     "name": "stderr",
     "output_type": "stream",
     "text": [
      "/Users/jane/anaconda3/lib/python3.6/site-packages/ipykernel_launcher.py:8: SettingWithCopyWarning: \n",
      "A value is trying to be set on a copy of a slice from a DataFrame.\n",
      "Try using .loc[row_indexer,col_indexer] = value instead\n",
      "\n",
      "See the caveats in the documentation: http://pandas.pydata.org/pandas-docs/stable/indexing.html#indexing-view-versus-copy\n",
      "  \n"
     ]
    },
    {
     "name": "stdout",
     "output_type": "stream",
     "text": [
      "Encoding Department\n",
      "Encoding Object Name\n",
      "Encoding Medium\n"
     ]
    }
   ],
   "source": [
    "columns=Feature.columns.delete(3)\n",
    "df_processed=Feature.iloc[:,3:4]\n",
    "from sklearn.preprocessing import LabelEncoder, OneHotEncoder\n",
    "label_encoders={}\n",
    "for col in columns:\n",
    "    print(\"Encoding {}\".format(col))\n",
    "    new_le = LabelEncoder()\n",
    "    df_processed[col] = new_le.fit_transform(Feature[col])\n",
    "    label_encoders[col] = new_le"
   ]
  },
  {
   "cell_type": "code",
   "execution_count": null,
   "metadata": {
    "collapsed": true
   },
   "outputs": [],
   "source": [
    "columns_idx = [df_processed.columns.get_loc(col) for col in columns]\n",
    "ohe = OneHotEncoder(categorical_features=columns_idx, sparse=False, handle_unknown=\"ignore\")\n",
    "df_processed_np = ohe.fit_transform(df_processed)"
   ]
  },
  {
   "cell_type": "markdown",
   "metadata": {},
   "source": [
    "# Feature Hashing"
   ]
  },
  {
   "cell_type": "code",
   "execution_count": null,
   "metadata": {
    "collapsed": true
   },
   "outputs": [],
   "source": [
    "from sklearn.feature_extraction import FeatureHasher\n",
    "H = FeatureHasher(n_features=20, input_type='string')\n",
    "F = H.transform(Feature)\n",
    "F.toarray()"
   ]
  },
  {
   "cell_type": "code",
   "execution_count": null,
   "metadata": {
    "collapsed": true
   },
   "outputs": [],
   "source": []
  }
 ],
 "metadata": {
  "kernelspec": {
   "display_name": "Python 3",
   "language": "python",
   "name": "python3"
  },
  "language_info": {
   "codemirror_mode": {
    "name": "ipython",
    "version": 3
   },
   "file_extension": ".py",
   "mimetype": "text/x-python",
   "name": "python",
   "nbconvert_exporter": "python",
   "pygments_lexer": "ipython3",
   "version": "3.6.3"
  }
 },
 "nbformat": 4,
 "nbformat_minor": 2
}
